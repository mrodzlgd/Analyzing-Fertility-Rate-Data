{
 "cells": [
  {
   "cell_type": "markdown",
   "metadata": {},
   "source": [
    "__Importing Libraries to use:__"
   ]
  },
  {
   "cell_type": "code",
   "execution_count": 103,
   "metadata": {},
   "outputs": [],
   "source": [
    "#import libraries\n",
    "import pandas as pd\n",
    "import numpy as np\n",
    "%matplotlib inline\n",
    "import random\n",
    "import matplotlib.pyplot as plt\n",
    "import seaborn as sns\n",
    "from missing_data import get_missing_fr_data\n",
    "from fr_data_clean import cols_to_use, tidy_data"
   ]
  },
  {
   "cell_type": "markdown",
   "metadata": {},
   "source": [
    "__Importing & Cleaning fertility rate data__\n",
    "\n",
    "* Data downloaded from https://data.worldbank.org/indicator/SP.DYN.TFRT.IN"
   ]
  },
  {
   "cell_type": "code",
   "execution_count": 104,
   "metadata": {},
   "outputs": [],
   "source": [
    "#name of columns to select which ones to import\n",
    "names = ['CountryName','CountryCode']\n",
    "names.extend(list(map(lambda x: str(x), list(range(1960,2018)))))"
   ]
  },
  {
   "cell_type": "code",
   "execution_count": 105,
   "metadata": {},
   "outputs": [],
   "source": [
    "#import fertility rate data\n",
    "df = pd.read_csv('data/API_SP.DYN.TFRT.IN_DS2_en_csv_v2_41035.csv', \n",
    "                 header = 2, \n",
    "                 usecols= cols_to_use(63,[2,3,62]),\n",
    "                 names=names)"
   ]
  },
  {
   "cell_type": "markdown",
   "metadata": {},
   "source": [
    "__Cleaning FR data__"
   ]
  },
  {
   "cell_type": "code",
   "execution_count": 106,
   "metadata": {},
   "outputs": [],
   "source": [
    "#melting dataframe to change into a tidy dataset\n",
    "countries_fr = tidy_data(df)"
   ]
  },
  {
   "cell_type": "code",
   "execution_count": 107,
   "metadata": {
    "scrolled": true
   },
   "outputs": [
    {
     "data": {
      "text/html": [
       "<div>\n",
       "<style scoped>\n",
       "    .dataframe tbody tr th:only-of-type {\n",
       "        vertical-align: middle;\n",
       "    }\n",
       "\n",
       "    .dataframe tbody tr th {\n",
       "        vertical-align: top;\n",
       "    }\n",
       "\n",
       "    .dataframe thead th {\n",
       "        text-align: right;\n",
       "    }\n",
       "</style>\n",
       "<table border=\"1\" class=\"dataframe\">\n",
       "  <thead>\n",
       "    <tr style=\"text-align: right;\">\n",
       "      <th></th>\n",
       "      <th>CountryName</th>\n",
       "      <th>CountryCode</th>\n",
       "      <th>Year</th>\n",
       "      <th>FR</th>\n",
       "    </tr>\n",
       "  </thead>\n",
       "  <tbody>\n",
       "    <tr>\n",
       "      <th>0</th>\n",
       "      <td>Aruba</td>\n",
       "      <td>ABW</td>\n",
       "      <td>1960</td>\n",
       "      <td>4.820</td>\n",
       "    </tr>\n",
       "    <tr>\n",
       "      <th>1</th>\n",
       "      <td>Afghanistan</td>\n",
       "      <td>AFG</td>\n",
       "      <td>1960</td>\n",
       "      <td>7.450</td>\n",
       "    </tr>\n",
       "    <tr>\n",
       "      <th>2</th>\n",
       "      <td>Angola</td>\n",
       "      <td>AGO</td>\n",
       "      <td>1960</td>\n",
       "      <td>7.478</td>\n",
       "    </tr>\n",
       "    <tr>\n",
       "      <th>3</th>\n",
       "      <td>Albania</td>\n",
       "      <td>ALB</td>\n",
       "      <td>1960</td>\n",
       "      <td>6.489</td>\n",
       "    </tr>\n",
       "    <tr>\n",
       "      <th>4</th>\n",
       "      <td>Andorra</td>\n",
       "      <td>AND</td>\n",
       "      <td>1960</td>\n",
       "      <td>NaN</td>\n",
       "    </tr>\n",
       "  </tbody>\n",
       "</table>\n",
       "</div>"
      ],
      "text/plain": [
       "   CountryName CountryCode  Year     FR\n",
       "0        Aruba         ABW  1960  4.820\n",
       "1  Afghanistan         AFG  1960  7.450\n",
       "2       Angola         AGO  1960  7.478\n",
       "3      Albania         ALB  1960  6.489\n",
       "4      Andorra         AND  1960    NaN"
      ]
     },
     "execution_count": 107,
     "metadata": {},
     "output_type": "execute_result"
    }
   ],
   "source": [
    "countries_fr.head()"
   ]
  },
  {
   "cell_type": "code",
   "execution_count": 108,
   "metadata": {},
   "outputs": [
    {
     "name": "stdout",
     "output_type": "stream",
     "text": [
      "<class 'pandas.core.frame.DataFrame'>\n",
      "RangeIndex: 15312 entries, 0 to 15311\n",
      "Data columns (total 4 columns):\n",
      "CountryName    15312 non-null object\n",
      "CountryCode    15312 non-null object\n",
      "Year           15312 non-null object\n",
      "FR             14016 non-null float64\n",
      "dtypes: float64(1), object(3)\n",
      "memory usage: 478.6+ KB\n"
     ]
    }
   ],
   "source": [
    "countries_fr.info()"
   ]
  },
  {
   "cell_type": "code",
   "execution_count": 109,
   "metadata": {
    "scrolled": true
   },
   "outputs": [],
   "source": [
    "#Changing Year data type from object\n",
    "countries_fr['Year'] = pd.to_datetime(countries_fr.Year, format='%Y').dt.year"
   ]
  },
  {
   "cell_type": "code",
   "execution_count": 110,
   "metadata": {
    "scrolled": false
   },
   "outputs": [
    {
     "data": {
      "text/html": [
       "<div>\n",
       "<style scoped>\n",
       "    .dataframe tbody tr th:only-of-type {\n",
       "        vertical-align: middle;\n",
       "    }\n",
       "\n",
       "    .dataframe tbody tr th {\n",
       "        vertical-align: top;\n",
       "    }\n",
       "\n",
       "    .dataframe thead th {\n",
       "        text-align: right;\n",
       "    }\n",
       "</style>\n",
       "<table border=\"1\" class=\"dataframe\">\n",
       "  <thead>\n",
       "    <tr style=\"text-align: right;\">\n",
       "      <th></th>\n",
       "      <th>CountryName</th>\n",
       "      <th>CountryCode</th>\n",
       "      <th>Year</th>\n",
       "      <th>FR</th>\n",
       "    </tr>\n",
       "  </thead>\n",
       "  <tbody>\n",
       "    <tr>\n",
       "      <th>257</th>\n",
       "      <td>World</td>\n",
       "      <td>WLD</td>\n",
       "      <td>1960</td>\n",
       "      <td>4.983509</td>\n",
       "    </tr>\n",
       "    <tr>\n",
       "      <th>521</th>\n",
       "      <td>World</td>\n",
       "      <td>WLD</td>\n",
       "      <td>1961</td>\n",
       "      <td>5.011111</td>\n",
       "    </tr>\n",
       "    <tr>\n",
       "      <th>785</th>\n",
       "      <td>World</td>\n",
       "      <td>WLD</td>\n",
       "      <td>1962</td>\n",
       "      <td>5.035931</td>\n",
       "    </tr>\n",
       "    <tr>\n",
       "      <th>1049</th>\n",
       "      <td>World</td>\n",
       "      <td>WLD</td>\n",
       "      <td>1963</td>\n",
       "      <td>5.057331</td>\n",
       "    </tr>\n",
       "    <tr>\n",
       "      <th>1313</th>\n",
       "      <td>World</td>\n",
       "      <td>WLD</td>\n",
       "      <td>1964</td>\n",
       "      <td>5.067376</td>\n",
       "    </tr>\n",
       "  </tbody>\n",
       "</table>\n",
       "</div>"
      ],
      "text/plain": [
       "     CountryName CountryCode  Year        FR\n",
       "257        World         WLD  1960  4.983509\n",
       "521        World         WLD  1961  5.011111\n",
       "785        World         WLD  1962  5.035931\n",
       "1049       World         WLD  1963  5.057331\n",
       "1313       World         WLD  1964  5.067376"
      ]
     },
     "execution_count": 110,
     "metadata": {},
     "output_type": "execute_result"
    }
   ],
   "source": [
    "#World Data\n",
    "world_fr = countries_fr.loc[countries_fr['CountryName']=='World']\n",
    "world_fr.head()"
   ]
  },
  {
   "cell_type": "markdown",
   "metadata": {},
   "source": [
    "__Import other Country data__"
   ]
  },
  {
   "cell_type": "code",
   "execution_count": 111,
   "metadata": {},
   "outputs": [],
   "source": [
    "#import region and income data\n",
    "country_details = pd.read_csv('data/Metadata_Country_API_SP.DYN.TFRT.IN_DS2_en_csv_v2_41035.csv' , \n",
    "                      header = 0,\n",
    "                      usecols = [0,1,2], \n",
    "                      names = ['CountryCode','Region','IncomeGroup'])"
   ]
  },
  {
   "cell_type": "code",
   "execution_count": 112,
   "metadata": {},
   "outputs": [
    {
     "data": {
      "text/html": [
       "<div>\n",
       "<style scoped>\n",
       "    .dataframe tbody tr th:only-of-type {\n",
       "        vertical-align: middle;\n",
       "    }\n",
       "\n",
       "    .dataframe tbody tr th {\n",
       "        vertical-align: top;\n",
       "    }\n",
       "\n",
       "    .dataframe thead th {\n",
       "        text-align: right;\n",
       "    }\n",
       "</style>\n",
       "<table border=\"1\" class=\"dataframe\">\n",
       "  <thead>\n",
       "    <tr style=\"text-align: right;\">\n",
       "      <th></th>\n",
       "      <th>CountryCode</th>\n",
       "      <th>Region</th>\n",
       "      <th>IncomeGroup</th>\n",
       "    </tr>\n",
       "  </thead>\n",
       "  <tbody>\n",
       "    <tr>\n",
       "      <th>0</th>\n",
       "      <td>ABW</td>\n",
       "      <td>Latin America &amp; Caribbean</td>\n",
       "      <td>High income</td>\n",
       "    </tr>\n",
       "    <tr>\n",
       "      <th>1</th>\n",
       "      <td>AFG</td>\n",
       "      <td>South Asia</td>\n",
       "      <td>Low income</td>\n",
       "    </tr>\n",
       "    <tr>\n",
       "      <th>2</th>\n",
       "      <td>AGO</td>\n",
       "      <td>Sub-Saharan Africa</td>\n",
       "      <td>Lower middle income</td>\n",
       "    </tr>\n",
       "    <tr>\n",
       "      <th>3</th>\n",
       "      <td>ALB</td>\n",
       "      <td>Europe &amp; Central Asia</td>\n",
       "      <td>Upper middle income</td>\n",
       "    </tr>\n",
       "    <tr>\n",
       "      <th>4</th>\n",
       "      <td>AND</td>\n",
       "      <td>Europe &amp; Central Asia</td>\n",
       "      <td>High income</td>\n",
       "    </tr>\n",
       "  </tbody>\n",
       "</table>\n",
       "</div>"
      ],
      "text/plain": [
       "  CountryCode                     Region          IncomeGroup\n",
       "0         ABW  Latin America & Caribbean          High income\n",
       "1         AFG                 South Asia           Low income\n",
       "2         AGO         Sub-Saharan Africa  Lower middle income\n",
       "3         ALB      Europe & Central Asia  Upper middle income\n",
       "4         AND      Europe & Central Asia          High income"
      ]
     },
     "execution_count": 112,
     "metadata": {},
     "output_type": "execute_result"
    }
   ],
   "source": [
    "country_details.head()"
   ]
  },
  {
   "cell_type": "code",
   "execution_count": 114,
   "metadata": {},
   "outputs": [],
   "source": [
    "# dropping non-country records\n",
    "country_details = country_details.dropna(axis = 0, how ='any') "
   ]
  },
  {
   "cell_type": "code",
   "execution_count": 115,
   "metadata": {},
   "outputs": [],
   "source": [
    "countries = country_details.CountryCode.tolist()"
   ]
  },
  {
   "cell_type": "code",
   "execution_count": 116,
   "metadata": {},
   "outputs": [],
   "source": [
    "countries_fr = countries_fr.loc[countries_fr.CountryCode.isin(countries)]"
   ]
  },
  {
   "cell_type": "markdown",
   "metadata": {},
   "source": [
    "# __Data Analysis__"
   ]
  },
  {
   "cell_type": "markdown",
   "metadata": {},
   "source": [
    "### __Reviewing Missing Data__ \n",
    "\n",
    "To be considered a complete data set, each country must have non null entries (one per year)\n",
    "* Expected = 215 countries by 58 years = 12470"
   ]
  },
  {
   "cell_type": "code",
   "execution_count": 119,
   "metadata": {},
   "outputs": [
    {
     "name": "stdout",
     "output_type": "stream",
     "text": [
      "1238  records are missing\n",
      "That is  9.84 % of the total data\n"
     ]
    },
    {
     "data": {
      "text/html": [
       "<div>\n",
       "<style scoped>\n",
       "    .dataframe tbody tr th:only-of-type {\n",
       "        vertical-align: middle;\n",
       "    }\n",
       "\n",
       "    .dataframe tbody tr th {\n",
       "        vertical-align: top;\n",
       "    }\n",
       "\n",
       "    .dataframe thead th {\n",
       "        text-align: right;\n",
       "    }\n",
       "</style>\n",
       "<table border=\"1\" class=\"dataframe\">\n",
       "  <thead>\n",
       "    <tr style=\"text-align: right;\">\n",
       "      <th></th>\n",
       "      <th>Country</th>\n",
       "      <th>MissingValues</th>\n",
       "      <th>perc_missing</th>\n",
       "    </tr>\n",
       "  </thead>\n",
       "  <tbody>\n",
       "    <tr>\n",
       "      <th>0</th>\n",
       "      <td>ASM</td>\n",
       "      <td>58</td>\n",
       "      <td>100.00</td>\n",
       "    </tr>\n",
       "    <tr>\n",
       "      <th>1</th>\n",
       "      <td>CYM</td>\n",
       "      <td>58</td>\n",
       "      <td>100.00</td>\n",
       "    </tr>\n",
       "    <tr>\n",
       "      <th>2</th>\n",
       "      <td>MCO</td>\n",
       "      <td>58</td>\n",
       "      <td>100.00</td>\n",
       "    </tr>\n",
       "    <tr>\n",
       "      <th>3</th>\n",
       "      <td>GIB</td>\n",
       "      <td>58</td>\n",
       "      <td>100.00</td>\n",
       "    </tr>\n",
       "    <tr>\n",
       "      <th>4</th>\n",
       "      <td>MNP</td>\n",
       "      <td>58</td>\n",
       "      <td>100.00</td>\n",
       "    </tr>\n",
       "    <tr>\n",
       "      <th>5</th>\n",
       "      <td>NRU</td>\n",
       "      <td>58</td>\n",
       "      <td>100.00</td>\n",
       "    </tr>\n",
       "    <tr>\n",
       "      <th>6</th>\n",
       "      <td>TCA</td>\n",
       "      <td>58</td>\n",
       "      <td>100.00</td>\n",
       "    </tr>\n",
       "    <tr>\n",
       "      <th>7</th>\n",
       "      <td>VGB</td>\n",
       "      <td>58</td>\n",
       "      <td>100.00</td>\n",
       "    </tr>\n",
       "    <tr>\n",
       "      <th>8</th>\n",
       "      <td>TUV</td>\n",
       "      <td>58</td>\n",
       "      <td>100.00</td>\n",
       "    </tr>\n",
       "    <tr>\n",
       "      <th>9</th>\n",
       "      <td>SMR</td>\n",
       "      <td>57</td>\n",
       "      <td>98.28</td>\n",
       "    </tr>\n",
       "    <tr>\n",
       "      <th>10</th>\n",
       "      <td>IMN</td>\n",
       "      <td>55</td>\n",
       "      <td>94.83</td>\n",
       "    </tr>\n",
       "    <tr>\n",
       "      <th>11</th>\n",
       "      <td>AND</td>\n",
       "      <td>53</td>\n",
       "      <td>91.38</td>\n",
       "    </tr>\n",
       "    <tr>\n",
       "      <th>12</th>\n",
       "      <td>MHL</td>\n",
       "      <td>52</td>\n",
       "      <td>89.66</td>\n",
       "    </tr>\n",
       "    <tr>\n",
       "      <th>13</th>\n",
       "      <td>KNA</td>\n",
       "      <td>52</td>\n",
       "      <td>89.66</td>\n",
       "    </tr>\n",
       "    <tr>\n",
       "      <th>14</th>\n",
       "      <td>PLW</td>\n",
       "      <td>52</td>\n",
       "      <td>89.66</td>\n",
       "    </tr>\n",
       "    <tr>\n",
       "      <th>15</th>\n",
       "      <td>SXM</td>\n",
       "      <td>52</td>\n",
       "      <td>89.66</td>\n",
       "    </tr>\n",
       "    <tr>\n",
       "      <th>16</th>\n",
       "      <td>DMA</td>\n",
       "      <td>51</td>\n",
       "      <td>87.93</td>\n",
       "    </tr>\n",
       "    <tr>\n",
       "      <th>17</th>\n",
       "      <td>CUW</td>\n",
       "      <td>46</td>\n",
       "      <td>79.31</td>\n",
       "    </tr>\n",
       "    <tr>\n",
       "      <th>18</th>\n",
       "      <td>LIE</td>\n",
       "      <td>40</td>\n",
       "      <td>68.97</td>\n",
       "    </tr>\n",
       "    <tr>\n",
       "      <th>19</th>\n",
       "      <td>BMU</td>\n",
       "      <td>39</td>\n",
       "      <td>67.24</td>\n",
       "    </tr>\n",
       "    <tr>\n",
       "      <th>20</th>\n",
       "      <td>SRB</td>\n",
       "      <td>34</td>\n",
       "      <td>58.62</td>\n",
       "    </tr>\n",
       "    <tr>\n",
       "      <th>21</th>\n",
       "      <td>SYC</td>\n",
       "      <td>33</td>\n",
       "      <td>56.90</td>\n",
       "    </tr>\n",
       "    <tr>\n",
       "      <th>22</th>\n",
       "      <td>PSE</td>\n",
       "      <td>30</td>\n",
       "      <td>51.72</td>\n",
       "    </tr>\n",
       "    <tr>\n",
       "      <th>23</th>\n",
       "      <td>MAF</td>\n",
       "      <td>22</td>\n",
       "      <td>37.93</td>\n",
       "    </tr>\n",
       "    <tr>\n",
       "      <th>24</th>\n",
       "      <td>XKX</td>\n",
       "      <td>21</td>\n",
       "      <td>36.21</td>\n",
       "    </tr>\n",
       "    <tr>\n",
       "      <th>25</th>\n",
       "      <td>GRL</td>\n",
       "      <td>15</td>\n",
       "      <td>25.86</td>\n",
       "    </tr>\n",
       "    <tr>\n",
       "      <th>26</th>\n",
       "      <td>FRO</td>\n",
       "      <td>10</td>\n",
       "      <td>17.24</td>\n",
       "    </tr>\n",
       "    <tr>\n",
       "      <th>27</th>\n",
       "      <td>LUX</td>\n",
       "      <td>2</td>\n",
       "      <td>3.45</td>\n",
       "    </tr>\n",
       "  </tbody>\n",
       "</table>\n",
       "</div>"
      ],
      "text/plain": [
       "   Country  MissingValues  perc_missing\n",
       "0      ASM             58        100.00\n",
       "1      CYM             58        100.00\n",
       "2      MCO             58        100.00\n",
       "3      GIB             58        100.00\n",
       "4      MNP             58        100.00\n",
       "5      NRU             58        100.00\n",
       "6      TCA             58        100.00\n",
       "7      VGB             58        100.00\n",
       "8      TUV             58        100.00\n",
       "9      SMR             57         98.28\n",
       "10     IMN             55         94.83\n",
       "11     AND             53         91.38\n",
       "12     MHL             52         89.66\n",
       "13     KNA             52         89.66\n",
       "14     PLW             52         89.66\n",
       "15     SXM             52         89.66\n",
       "16     DMA             51         87.93\n",
       "17     CUW             46         79.31\n",
       "18     LIE             40         68.97\n",
       "19     BMU             39         67.24\n",
       "20     SRB             34         58.62\n",
       "21     SYC             33         56.90\n",
       "22     PSE             30         51.72\n",
       "23     MAF             22         37.93\n",
       "24     XKX             21         36.21\n",
       "25     GRL             15         25.86\n",
       "26     FRO             10         17.24\n",
       "27     LUX              2          3.45"
      ]
     },
     "execution_count": 119,
     "metadata": {},
     "output_type": "execute_result"
    }
   ],
   "source": [
    "#getting list of countries with missing values\n",
    "missing_data = get_missing_fr_data(countries_fr)\n",
    "missing_data"
   ]
  },
  {
   "cell_type": "code",
   "execution_count": 69,
   "metadata": {},
   "outputs": [
    {
     "data": {
      "text/plain": [
       "['ASM', 'CYM', 'MCO', 'GIB', 'MNP', 'NRU', 'TCA', 'VGB', 'TUV']"
      ]
     },
     "execution_count": 69,
     "metadata": {},
     "output_type": "execute_result"
    }
   ],
   "source": [
    "#Get list of countries with no data\n",
    "no_data = missing_data.loc[missing_data['perc_missing']==100,['Country']]['Country'].tolist()\n",
    "no_data"
   ]
  },
  {
   "cell_type": "code",
   "execution_count": 120,
   "metadata": {},
   "outputs": [
    {
     "data": {
      "text/plain": [
       "(12064, 4)"
      ]
     },
     "execution_count": 120,
     "metadata": {},
     "output_type": "execute_result"
    }
   ],
   "source": [
    "#Remove countries with no data \n",
    "countries_fr = countries_fr.loc[~countries_fr['CountryCode'].isin(no_data)]\n",
    "countries_fr.shape"
   ]
  },
  {
   "cell_type": "code",
   "execution_count": 71,
   "metadata": {},
   "outputs": [],
   "source": [
    "#Get list of countries with partial data\n",
    "partial_data = missing_data.loc[missing_data['perc_missing']<100,['Country']]['Country'].tolist()"
   ]
  },
  {
   "cell_type": "code",
   "execution_count": 72,
   "metadata": {},
   "outputs": [],
   "source": [
    "#Get record count for each coutry with partial data between 2007 and 2017\n",
    "partial_df  = countries_fr.loc[(countries_fr['CountryCode'].isin(partial_data)) &\\\n",
    "                 (countries_fr['Year'].between(2007,2017, inclusive = True)) & \\\n",
    "                  (countries_fr['FR']>0)].sort_values(['CountryCode','Year'], ascending=True  )"
   ]
  },
  {
   "cell_type": "code",
   "execution_count": 73,
   "metadata": {},
   "outputs": [
    {
     "data": {
      "text/plain": [
       "PSE    11\n",
       "FRO    11\n",
       "SYC    11\n",
       "GRL    11\n",
       "CUW    11\n",
       "MAF    11\n",
       "XKX    11\n",
       "BMU    11\n",
       "LIE    11\n",
       "SRB    11\n",
       "LUX    11\n",
       "SXM     4\n",
       "AND     4\n",
       "MHL     2\n",
       "PLW     2\n",
       "SMR     1\n",
       "Name: CountryCode, dtype: int64"
      ]
     },
     "execution_count": 73,
     "metadata": {},
     "output_type": "execute_result"
    }
   ],
   "source": [
    "partial_df.CountryCode.value_counts()"
   ]
  },
  {
   "cell_type": "code",
   "execution_count": 74,
   "metadata": {},
   "outputs": [
    {
     "data": {
      "text/plain": [
       "(11774, 4)"
      ]
     },
     "execution_count": 74,
     "metadata": {},
     "output_type": "execute_result"
    }
   ],
   "source": [
    "#Remove countries with less than ten years of data\n",
    "countries_fr = countries_fr.loc[~countries_fr['CountryCode'].isin(['SXM','AND','MHL','PLW','SMR'])]\n",
    "countries_fr.shape"
   ]
  },
  {
   "cell_type": "code",
   "execution_count": 75,
   "metadata": {},
   "outputs": [
    {
     "data": {
      "text/plain": [
       "203"
      ]
     },
     "execution_count": 75,
     "metadata": {},
     "output_type": "execute_result"
    }
   ],
   "source": [
    "len(countries_fr.CountryCode.unique())"
   ]
  },
  {
   "cell_type": "markdown",
   "metadata": {},
   "source": [
    "__Plotting data__"
   ]
  },
  {
   "cell_type": "code",
   "execution_count": 76,
   "metadata": {},
   "outputs": [],
   "source": [
    "#get maximun worldwide FR value\n",
    "FR_Max = world_fr.FR.max()\n",
    "FR_Max_Yr = world_fr.loc[world_fr['FR']==FR_Max,['Year']]['Year'].tolist()"
   ]
  },
  {
   "cell_type": "code",
   "execution_count": 77,
   "metadata": {},
   "outputs": [],
   "source": [
    "#get minimun worldwide FR value\n",
    "FR_Min = world_fr.FR.min()\n",
    "FR_Min_Yr = world_fr.loc[world_fr['FR']==FR_Min,['Year']]['Year'].tolist()"
   ]
  },
  {
   "cell_type": "code",
   "execution_count": 78,
   "metadata": {
    "scrolled": true
   },
   "outputs": [
    {
     "data": {
      "image/png": "[encoded data removed]",
      "text/plain": [
       "<Figure size 1152x720 with 1 Axes>"
      ]
     },
     "metadata": {},
     "output_type": "display_data"
    },
    {
     "data": {
      "text/plain": [
       "''"
      ]
     },
     "execution_count": 78,
     "metadata": {},
     "output_type": "execute_result"
    }
   ],
   "source": [
    "#Plot fertility rate for the world\n",
    "\n",
    "large = 22; med = 16; small = 12\n",
    "params = {'axes.titlesize': large,\n",
    "          'legend.fontsize': med,\n",
    "          'figure.figsize': (16, 10),\n",
    "          'axes.labelsize': med,\n",
    "          'xtick.labelsize': large,\n",
    "          'ytick.labelsize': large,\n",
    "          'figure.titlesize': large}\n",
    "\n",
    "plt.rcParams.update(params)\n",
    "plt.style.use('seaborn-whitegrid')\n",
    "sns.set_style(\"white\")\n",
    "\n",
    "wld_fr_data = sns.lineplot(x='Year',\n",
    "                         y=\"FR\",\n",
    "                         data=world_fr,\n",
    "                         color = 'orange',\n",
    "                         markers=True,\n",
    "                         marker=\"o\"\n",
    "                        \n",
    "                         ).set_title('Average Fertility Rate - Worldwide')\n",
    "\n",
    "\n",
    "plt.plot(FR_Max_Yr, FR_Max, 'o', color='green')\n",
    "plt.plot(FR_Min_Yr, FR_Min, 'o', color='red')\n",
    "\n",
    "\n",
    "plt.savefig('World_FR.png')\n",
    "plt.show()\n",
    "\n",
    ";"
   ]
  },
  {
   "cell_type": "code",
   "execution_count": 79,
   "metadata": {},
   "outputs": [
    {
     "data": {
      "text/html": [
       "<div>\n",
       "<style scoped>\n",
       "    .dataframe tbody tr th:only-of-type {\n",
       "        vertical-align: middle;\n",
       "    }\n",
       "\n",
       "    .dataframe tbody tr th {\n",
       "        vertical-align: top;\n",
       "    }\n",
       "\n",
       "    .dataframe thead th {\n",
       "        text-align: right;\n",
       "    }\n",
       "</style>\n",
       "<table border=\"1\" class=\"dataframe\">\n",
       "  <thead>\n",
       "    <tr style=\"text-align: right;\">\n",
       "      <th></th>\n",
       "      <th>CountryName</th>\n",
       "      <th>CountryCode</th>\n",
       "      <th>Year</th>\n",
       "      <th>FR</th>\n",
       "    </tr>\n",
       "  </thead>\n",
       "  <tbody>\n",
       "    <tr>\n",
       "      <th>15219</th>\n",
       "      <td>Niger</td>\n",
       "      <td>NER</td>\n",
       "      <td>2017</td>\n",
       "      <td>7.184</td>\n",
       "    </tr>\n",
       "    <tr>\n",
       "      <th>15259</th>\n",
       "      <td>Somalia</td>\n",
       "      <td>SOM</td>\n",
       "      <td>2017</td>\n",
       "      <td>6.171</td>\n",
       "    </tr>\n",
       "    <tr>\n",
       "      <th>15089</th>\n",
       "      <td>Congo, Dem. Rep.</td>\n",
       "      <td>COD</td>\n",
       "      <td>2017</td>\n",
       "      <td>6.018</td>\n",
       "    </tr>\n",
       "    <tr>\n",
       "      <th>15204</th>\n",
       "      <td>Mali</td>\n",
       "      <td>MLI</td>\n",
       "      <td>2017</td>\n",
       "      <td>5.968</td>\n",
       "    </tr>\n",
       "    <tr>\n",
       "      <th>15275</th>\n",
       "      <td>Chad</td>\n",
       "      <td>TCD</td>\n",
       "      <td>2017</td>\n",
       "      <td>5.846</td>\n",
       "    </tr>\n",
       "    <tr>\n",
       "      <th>15050</th>\n",
       "      <td>Angola</td>\n",
       "      <td>AGO</td>\n",
       "      <td>2017</td>\n",
       "      <td>5.623</td>\n",
       "    </tr>\n",
       "    <tr>\n",
       "      <th>15062</th>\n",
       "      <td>Burundi</td>\n",
       "      <td>BDI</td>\n",
       "      <td>2017</td>\n",
       "      <td>5.615</td>\n",
       "    </tr>\n",
       "    <tr>\n",
       "      <th>15293</th>\n",
       "      <td>Uganda</td>\n",
       "      <td>UGA</td>\n",
       "      <td>2017</td>\n",
       "      <td>5.500</td>\n",
       "    </tr>\n",
       "    <tr>\n",
       "      <th>15220</th>\n",
       "      <td>Nigeria</td>\n",
       "      <td>NGA</td>\n",
       "      <td>2017</td>\n",
       "      <td>5.457</td>\n",
       "    </tr>\n",
       "    <tr>\n",
       "      <th>15283</th>\n",
       "      <td>Timor-Leste</td>\n",
       "      <td>TLS</td>\n",
       "      <td>2017</td>\n",
       "      <td>5.391</td>\n",
       "    </tr>\n",
       "    <tr>\n",
       "      <th>15132</th>\n",
       "      <td>Gambia, The</td>\n",
       "      <td>GMB</td>\n",
       "      <td>2017</td>\n",
       "      <td>5.358</td>\n",
       "    </tr>\n",
       "    <tr>\n",
       "      <th>15065</th>\n",
       "      <td>Burkina Faso</td>\n",
       "      <td>BFA</td>\n",
       "      <td>2017</td>\n",
       "      <td>5.271</td>\n",
       "    </tr>\n",
       "    <tr>\n",
       "      <th>15211</th>\n",
       "      <td>Mozambique</td>\n",
       "      <td>MOZ</td>\n",
       "      <td>2017</td>\n",
       "      <td>5.179</td>\n",
       "    </tr>\n",
       "    <tr>\n",
       "      <th>15292</th>\n",
       "      <td>Tanzania</td>\n",
       "      <td>TZA</td>\n",
       "      <td>2017</td>\n",
       "      <td>4.953</td>\n",
       "    </tr>\n",
       "    <tr>\n",
       "      <th>15310</th>\n",
       "      <td>Zambia</td>\n",
       "      <td>ZMB</td>\n",
       "      <td>2017</td>\n",
       "      <td>4.925</td>\n",
       "    </tr>\n",
       "  </tbody>\n",
       "</table>\n",
       "</div>"
      ],
      "text/plain": [
       "            CountryName CountryCode  Year     FR\n",
       "15219             Niger         NER  2017  7.184\n",
       "15259           Somalia         SOM  2017  6.171\n",
       "15089  Congo, Dem. Rep.         COD  2017  6.018\n",
       "15204              Mali         MLI  2017  5.968\n",
       "15275              Chad         TCD  2017  5.846\n",
       "15050            Angola         AGO  2017  5.623\n",
       "15062           Burundi         BDI  2017  5.615\n",
       "15293            Uganda         UGA  2017  5.500\n",
       "15220           Nigeria         NGA  2017  5.457\n",
       "15283       Timor-Leste         TLS  2017  5.391\n",
       "15132       Gambia, The         GMB  2017  5.358\n",
       "15065      Burkina Faso         BFA  2017  5.271\n",
       "15211        Mozambique         MOZ  2017  5.179\n",
       "15292          Tanzania         TZA  2017  4.953\n",
       "15310            Zambia         ZMB  2017  4.925"
      ]
     },
     "execution_count": 79,
     "metadata": {},
     "output_type": "execute_result"
    }
   ],
   "source": [
    "#get top 15 fr values for 2017\n",
    "highest_fr = countries_fr.loc[countries_fr.Year == 2017].sort_values('FR', ascending = False).head(15)\n",
    "highest_fr"
   ]
  },
  {
   "cell_type": "code",
   "execution_count": 80,
   "metadata": {},
   "outputs": [
    {
     "data": {
      "text/html": [
       "<div>\n",
       "<style scoped>\n",
       "    .dataframe tbody tr th:only-of-type {\n",
       "        vertical-align: middle;\n",
       "    }\n",
       "\n",
       "    .dataframe tbody tr th {\n",
       "        vertical-align: top;\n",
       "    }\n",
       "\n",
       "    .dataframe thead th {\n",
       "        text-align: right;\n",
       "    }\n",
       "</style>\n",
       "<table border=\"1\" class=\"dataframe\">\n",
       "  <thead>\n",
       "    <tr style=\"text-align: right;\">\n",
       "      <th></th>\n",
       "      <th>CountryName</th>\n",
       "      <th>CountryCode</th>\n",
       "      <th>Year</th>\n",
       "      <th>FR</th>\n",
       "    </tr>\n",
       "  </thead>\n",
       "  <tbody>\n",
       "    <tr>\n",
       "      <th>15172</th>\n",
       "      <td>Korea, Rep.</td>\n",
       "      <td>KOR</td>\n",
       "      <td>2017</td>\n",
       "      <td>1.052</td>\n",
       "    </tr>\n",
       "    <tr>\n",
       "      <th>15238</th>\n",
       "      <td>Puerto Rico</td>\n",
       "      <td>PRI</td>\n",
       "      <td>2017</td>\n",
       "      <td>1.101</td>\n",
       "    </tr>\n",
       "    <tr>\n",
       "      <th>15142</th>\n",
       "      <td>Hong Kong SAR, China</td>\n",
       "      <td>HKG</td>\n",
       "      <td>2017</td>\n",
       "      <td>1.125</td>\n",
       "    </tr>\n",
       "    <tr>\n",
       "      <th>15254</th>\n",
       "      <td>Singapore</td>\n",
       "      <td>SGP</td>\n",
       "      <td>2017</td>\n",
       "      <td>1.160</td>\n",
       "    </tr>\n",
       "    <tr>\n",
       "      <th>15196</th>\n",
       "      <td>Moldova</td>\n",
       "      <td>MDA</td>\n",
       "      <td>2017</td>\n",
       "      <td>1.234</td>\n",
       "    </tr>\n",
       "    <tr>\n",
       "      <th>15192</th>\n",
       "      <td>Macao SAR, China</td>\n",
       "      <td>MAC</td>\n",
       "      <td>2017</td>\n",
       "      <td>1.338</td>\n",
       "    </tr>\n",
       "    <tr>\n",
       "      <th>15099</th>\n",
       "      <td>Cyprus</td>\n",
       "      <td>CYP</td>\n",
       "      <td>2017</td>\n",
       "      <td>1.338</td>\n",
       "    </tr>\n",
       "    <tr>\n",
       "      <th>15162</th>\n",
       "      <td>Italy</td>\n",
       "      <td>ITA</td>\n",
       "      <td>2017</td>\n",
       "      <td>1.340</td>\n",
       "    </tr>\n",
       "    <tr>\n",
       "      <th>15116</th>\n",
       "      <td>Spain</td>\n",
       "      <td>ESP</td>\n",
       "      <td>2017</td>\n",
       "      <td>1.340</td>\n",
       "    </tr>\n",
       "    <tr>\n",
       "      <th>15240</th>\n",
       "      <td>Portugal</td>\n",
       "      <td>PRT</td>\n",
       "      <td>2017</td>\n",
       "      <td>1.360</td>\n",
       "    </tr>\n",
       "    <tr>\n",
       "      <th>15205</th>\n",
       "      <td>Malta</td>\n",
       "      <td>MLT</td>\n",
       "      <td>2017</td>\n",
       "      <td>1.370</td>\n",
       "    </tr>\n",
       "    <tr>\n",
       "      <th>15294</th>\n",
       "      <td>Ukraine</td>\n",
       "      <td>UKR</td>\n",
       "      <td>2017</td>\n",
       "      <td>1.374</td>\n",
       "    </tr>\n",
       "    <tr>\n",
       "      <th>15070</th>\n",
       "      <td>Bosnia and Herzegovina</td>\n",
       "      <td>BIH</td>\n",
       "      <td>2017</td>\n",
       "      <td>1.375</td>\n",
       "    </tr>\n",
       "    <tr>\n",
       "      <th>15135</th>\n",
       "      <td>Greece</td>\n",
       "      <td>GRC</td>\n",
       "      <td>2017</td>\n",
       "      <td>1.380</td>\n",
       "    </tr>\n",
       "    <tr>\n",
       "      <th>15236</th>\n",
       "      <td>Poland</td>\n",
       "      <td>POL</td>\n",
       "      <td>2017</td>\n",
       "      <td>1.390</td>\n",
       "    </tr>\n",
       "  </tbody>\n",
       "</table>\n",
       "</div>"
      ],
      "text/plain": [
       "                  CountryName CountryCode  Year     FR\n",
       "15172             Korea, Rep.         KOR  2017  1.052\n",
       "15238             Puerto Rico         PRI  2017  1.101\n",
       "15142    Hong Kong SAR, China         HKG  2017  1.125\n",
       "15254               Singapore         SGP  2017  1.160\n",
       "15196                 Moldova         MDA  2017  1.234\n",
       "15192        Macao SAR, China         MAC  2017  1.338\n",
       "15099                  Cyprus         CYP  2017  1.338\n",
       "15162                   Italy         ITA  2017  1.340\n",
       "15116                   Spain         ESP  2017  1.340\n",
       "15240                Portugal         PRT  2017  1.360\n",
       "15205                   Malta         MLT  2017  1.370\n",
       "15294                 Ukraine         UKR  2017  1.374\n",
       "15070  Bosnia and Herzegovina         BIH  2017  1.375\n",
       "15135                  Greece         GRC  2017  1.380\n",
       "15236                  Poland         POL  2017  1.390"
      ]
     },
     "execution_count": 80,
     "metadata": {},
     "output_type": "execute_result"
    }
   ],
   "source": [
    "#get lowest 15 FR values for 2017\n",
    "lowest_fr = countries_fr.loc[countries_fr.Year == 2017].sort_values('FR', ascending = True).head(15)\n",
    "lowest_fr"
   ]
  },
  {
   "cell_type": "code",
   "execution_count": 81,
   "metadata": {},
   "outputs": [
    {
     "data": {
      "image/png": "[encoded data removed]",
      "text/plain": [
       "<Figure size 720x720 with 1 Axes>"
      ]
     },
     "metadata": {},
     "output_type": "display_data"
    }
   ],
   "source": [
    "#Plot countries with highest FR in 2017\n",
    "plt.figure(figsize=(10, 10)) \n",
    "plt.bar(highest_fr.CountryName, highest_fr.FR, align='center', alpha=0.5 , color = 'green')\n",
    "plt.xticks(highest_fr.CountryName ,rotation=65, size='medium')\n",
    "plt.yticks(size= 'large')\n",
    "plt.ylabel('AFR')\n",
    "plt.xlabel('Countries')\n",
    "plt.title('Fertility Rates 2017 - Highest 15 Countries ')\n",
    "plt.savefig('Top15_.png')\n",
    "plt.show()"
   ]
  },
  {
   "cell_type": "code",
   "execution_count": 82,
   "metadata": {},
   "outputs": [
    {
     "data": {
      "image/png": "[encoded data removed]",
      "text/plain": [
       "<Figure size 864x720 with 1 Axes>"
      ]
     },
     "metadata": {},
     "output_type": "display_data"
    }
   ],
   "source": [
    "#Plot countries with lowest FR in 2017\n",
    "plt.figure(figsize=(12, 10) )\n",
    "plt.bar(lowest_fr.CountryName, lowest_fr.FR, align='center', alpha=0.5, color = \"red\")\n",
    "plt.xticks(lowest_fr.CountryName ,rotation=65,size='medium')\n",
    "plt.yticks(size= 'large')\n",
    "plt.ylabel('AFR')\n",
    "plt.xlabel('Countries')\n",
    "plt.title('Fertility Rates 2017 - Lowest 15 Countries ')\n",
    "plt.savefig('low10.png')\n",
    "plt.show()"
   ]
  },
  {
   "cell_type": "code",
   "execution_count": 84,
   "metadata": {},
   "outputs": [],
   "source": [
    "#get names of top and low 15 countries \n",
    "lowest_fr_list = lowest_fr.CountryCode.tolist()\n",
    "highest_fr_list = highest_fr.CountryCode.tolist()"
   ]
  },
  {
   "cell_type": "code",
   "execution_count": 86,
   "metadata": {},
   "outputs": [],
   "source": [
    "lowest_data = countries_fr.loc[countries_fr.CountryCode.isin(lowest_fr_list)]\n"
   ]
  },
  {
   "cell_type": "code",
   "execution_count": 87,
   "metadata": {},
   "outputs": [],
   "source": [
    "highest_data = countries_fr.loc[countries_fr.CountryCode.isin(highest_fr_list)]"
   ]
  },
  {
   "cell_type": "code",
   "execution_count": 88,
   "metadata": {},
   "outputs": [
    {
     "data": {
      "image/png": "[encoded data removed]",
      "text/plain": [
       "<Figure size 1800x1080 with 15 Axes>"
      ]
     },
     "metadata": {},
     "output_type": "display_data"
    }
   ],
   "source": [
    "#Plot trend for 15 countries with the lowest FR \n",
    "g = sns.FacetGrid(lowest_data, col=\"CountryName\", col_wrap=5, height=5)\n",
    "g.map(sns.lineplot, \"Year\", \"FR\", color=\"red\", ci=None);\n",
    "g.set_axis_labels(\"Year\", \"FR\");\n",
    "params = {'axes.titlesize': large,\n",
    "          'legend.fontsize': med,\n",
    "          'figure.figsize': (16, 10),\n",
    "          'axes.labelsize': med,\n",
    "          'xtick.labelsize': med,\n",
    "          'ytick.labelsize': med,\n",
    "          'figure.titlesize': large}\n",
    "\n",
    "plt.rcParams.update(params)\n",
    "plt.style.use('seaborn-whitegrid')\n",
    "sns.set_style(\"white\")\n",
    "plt.savefig('low15.png')\n",
    "plt.show()"
   ]
  },
  {
   "cell_type": "code",
   "execution_count": 320,
   "metadata": {},
   "outputs": [
    {
     "data": {
      "image/png": "[encoded data removed]",
      "text/plain": [
       "<Figure size 1800x1080 with 15 Axes>"
      ]
     },
     "metadata": {},
     "output_type": "display_data"
    }
   ],
   "source": [
    "#Plot trend for 15 countries with the highest FR \n",
    "\n",
    "g = sns.FacetGrid(highest_data, col=\"CountryName\", col_wrap=5, height=5)\n",
    "g.map(sns.lineplot, \"Year\", \"FR\", color=\"red\", ci=None);\n",
    "g.set_axis_labels(\"Year\", \"FR\");\n",
    "params = {'axes.titlesize': large,\n",
    "          'legend.fontsize': med,\n",
    "          'figure.figsize': (16, 10),\n",
    "          'axes.labelsize': med,\n",
    "          'xtick.labelsize': med,\n",
    "          'ytick.labelsize': med,\n",
    "          'figure.titlesize': large}\n",
    "\n",
    "plt.rcParams.update(params)\n",
    "plt.style.use('seaborn-whitegrid')\n",
    "sns.set_style(\"white\")\n",
    "plt.savefig('top_15.png')\n",
    "plt.show()\n"
   ]
  },
  {
   "cell_type": "code",
   "execution_count": 132,
   "metadata": {},
   "outputs": [],
   "source": [
    "#Get 2017 FR for all countries\n",
    "FR_2017 = countries_fr.loc[countries_fr.Year == 2017].sort_values('FR', ascending = True)\n",
    "FR_2017 = FR_2017.dropna(axis = 0, how ='any') "
   ]
  },
  {
   "cell_type": "code",
   "execution_count": 133,
   "metadata": {},
   "outputs": [
    {
     "data": {
      "application/vnd.plotly.v1+json": {
       "config": {
        "plotlyServerURL": "https://plot.ly"
       },
       "data": [
        {
         "autocolorscale": false,
         "colorbar": {
          "title": {
           "text": "Average FR"
          }
         },
         "colorscale": [
          [
           0,
           "rgb(247,251,255)"
          ],
          [
           0.125,
           "rgb(222,235,247)"
          ],
          [
           0.25,
           "rgb(198,219,239)"
          ],
          [
           0.375,
           "rgb(158,202,225)"
          ],
          [
           0.5,
           "rgb(107,174,214)"
          ],
          [
           0.625,
           "rgb(66,146,198)"
          ],
          [
           0.75,
           "rgb(33,113,181)"
          ],
          [
           0.875,
           "rgb(8,81,156)"
          ],
          [
           1,
           "rgb(8,48,107)"
          ]
         ],
         "locations": [
          "KOR",
          "PRI",
          "HKG",
          "SGP",
          "MDA",
          "MAC",
          "CYP",
          "ITA",
          "ESP",
          "PRT",
          "MLT",
          "UKR",
          "BIH",
          "GRC",
          "POL",
          "LUX",
          "HRV",
          "JPN",
          "MUS",
          "LCA",
          "SRB",
          "THA",
          "SVK",
          "CHI",
          "CAN",
          "CUW",
          "HUN",
          "AUT",
          "BGR",
          "CHE",
          "BLR",
          "MKD",
          "DEU",
          "FIN",
          "SVN",
          "EST",
          "ARM",
          "LIE",
          "BMU",
          "CZE",
          "CHN",
          "IRN",
          "ROU",
          "MNE",
          "NLD",
          "BEL",
          "LTU",
          "ALB",
          "NOR",
          "BRA",
          "LBN",
          "CUB",
          "ARE",
          "TTO",
          "LVA",
          "ISL",
          "BHS",
          "RUS",
          "AUS",
          "USA",
          "CHL",
          "CRI",
          "GBR",
          "DNK",
          "ABW",
          "BRB",
          "MAF",
          "IRL",
          "NZL",
          "COL",
          "SWE",
          "BRN",
          "QAT",
          "PRK",
          "AZE",
          "VCT",
          "FRA",
          "VNM",
          "KWT",
          "NCL",
          "URY",
          "GEO",
          "JAM",
          "PYF",
          "BHR",
          "MYS",
          "BTN",
          "XKX",
          "LKA",
          "TUR",
          "ATG",
          "MDV",
          "SLV",
          "BGD",
          "VIR",
          "GRD",
          "NPL",
          "GRL",
          "MEX",
          "NIC",
          "TUN",
          "MMR",
          "LBY",
          "ARG",
          "VEN",
          "CPV",
          "IND",
          "GUM",
          "IDN",
          "SUR",
          "PER",
          "DOM",
          "HND",
          "ZAF",
          "PRY",
          "MAR",
          "UZB",
          "ECU",
          "BLZ",
          "GUY",
          "PAN",
          "SAU",
          "FJI",
          "FRO",
          "KHM",
          "OMN",
          "LAO",
          "BWA",
          "DZA",
          "MNG",
          "KAZ",
          "DJI",
          "TKM",
          "BOL",
          "SYR",
          "HTI",
          "PHL",
          "GTM",
          "KGZ",
          "SWZ",
          "LSO",
          "FSM",
          "ISR",
          "EGY",
          "VUT",
          "JOR",
          "TJK",
          "NAM",
          "PAK",
          "TON",
          "KIR",
          "PNG",
          "SYC",
          "ZWE",
          "GAB",
          "KEN",
          "SLB",
          "RWA",
          "YEM",
          "WSM",
          "GHA",
          "PSE",
          "ERI",
          "ETH",
          "MDG",
          "COM",
          "IRQ",
          "SLE",
          "TGO",
          "STP",
          "SDN",
          "AFG",
          "MWI",
          "LBR",
          "GNB",
          "COG",
          "GNQ",
          "MRT",
          "CMR",
          "SEN",
          "SSD",
          "GIN",
          "CAF",
          "CIV",
          "BEN",
          "ZMB",
          "TZA",
          "MOZ",
          "BFA",
          "GMB",
          "TLS",
          "NGA",
          "UGA",
          "BDI",
          "AGO",
          "TCD",
          "MLI",
          "COD",
          "SOM",
          "NER"
         ],
         "marker": {
          "line": {
           "color": "darkgray",
           "width": 0.5
          }
         },
         "reversescale": true,
         "text": [
          "Korea, Rep.",
          "Puerto Rico",
          "Hong Kong SAR, China",
          "Singapore",
          "Moldova",
          "Macao SAR, China",
          "Cyprus",
          "Italy",
          "Spain",
          "Portugal",
          "Malta",
          "Ukraine",
          "Bosnia and Herzegovina",
          "Greece",
          "Poland",
          "Luxembourg",
          "Croatia",
          "Japan",
          "Mauritius",
          "St. Lucia",
          "Serbia",
          "Thailand",
          "Slovak Republic",
          "Channel Islands",
          "Canada",
          "Curacao",
          "Hungary",
          "Austria",
          "Bulgaria",
          "Switzerland",
          "Belarus",
          "North Macedonia",
          "Germany",
          "Finland",
          "Slovenia",
          "Estonia",
          "Armenia",
          "Liechtenstein",
          "Bermuda",
          "Czech Republic",
          "China",
          "Iran, Islamic Rep.",
          "Romania",
          "Montenegro",
          "Netherlands",
          "Belgium",
          "Lithuania",
          "Albania",
          "Norway",
          "Brazil",
          "Lebanon",
          "Cuba",
          "United Arab Emirates",
          "Trinidad and Tobago",
          "Latvia",
          "Iceland",
          "Bahamas, The",
          "Russian Federation",
          "Australia",
          "United States",
          "Chile",
          "Costa Rica",
          "United Kingdom",
          "Denmark",
          "Aruba",
          "Barbados",
          "St. Martin (French part)",
          "Ireland",
          "New Zealand",
          "Colombia",
          "Sweden",
          "Brunei Darussalam",
          "Qatar",
          "Korea, Dem. People’s Rep.",
          "Azerbaijan",
          "St. Vincent and the Grenadines",
          "France",
          "Vietnam",
          "Kuwait",
          "New Caledonia",
          "Uruguay",
          "Georgia",
          "Jamaica",
          "French Polynesia",
          "Bahrain",
          "Malaysia",
          "Bhutan",
          "Kosovo",
          "Sri Lanka",
          "Turkey",
          "Antigua and Barbuda",
          "Maldives",
          "El Salvador",
          "Bangladesh",
          "Virgin Islands (U.S.)",
          "Grenada",
          "Nepal",
          "Greenland",
          "Mexico",
          "Nicaragua",
          "Tunisia",
          "Myanmar",
          "Libya",
          "Argentina",
          "Venezuela, RB",
          "Cabo Verde",
          "India",
          "Guam",
          "Indonesia",
          "Suriname",
          "Peru",
          "Dominican Republic",
          "Honduras",
          "South Africa",
          "Paraguay",
          "Morocco",
          "Uzbekistan",
          "Ecuador",
          "Belize",
          "Guyana",
          "Panama",
          "Saudi Arabia",
          "Fiji",
          "Faroe Islands",
          "Cambodia",
          "Oman",
          "Lao PDR",
          "Botswana",
          "Algeria",
          "Mongolia",
          "Kazakhstan",
          "Djibouti",
          "Turkmenistan",
          "Bolivia",
          "Syrian Arab Republic",
          "Haiti",
          "Philippines",
          "Guatemala",
          "Kyrgyz Republic",
          "Eswatini",
          "Lesotho",
          "Micronesia, Fed. Sts.",
          "Israel",
          "Egypt, Arab Rep.",
          "Vanuatu",
          "Jordan",
          "Tajikistan",
          "Namibia",
          "Pakistan",
          "Tonga",
          "Kiribati",
          "Papua New Guinea",
          "Seychelles",
          "Zimbabwe",
          "Gabon",
          "Kenya",
          "Solomon Islands",
          "Rwanda",
          "Yemen, Rep.",
          "Samoa",
          "Ghana",
          "West Bank and Gaza",
          "Eritrea",
          "Ethiopia",
          "Madagascar",
          "Comoros",
          "Iraq",
          "Sierra Leone",
          "Togo",
          "Sao Tome and Principe",
          "Sudan",
          "Afghanistan",
          "Malawi",
          "Liberia",
          "Guinea-Bissau",
          "Congo, Rep.",
          "Equatorial Guinea",
          "Mauritania",
          "Cameroon",
          "Senegal",
          "South Sudan",
          "Guinea",
          "Central African Republic",
          "Cote d'Ivoire",
          "Benin",
          "Zambia",
          "Tanzania",
          "Mozambique",
          "Burkina Faso",
          "Gambia, The",
          "Timor-Leste",
          "Nigeria",
          "Uganda",
          "Burundi",
          "Angola",
          "Chad",
          "Mali",
          "Congo, Dem. Rep.",
          "Somalia",
          "Niger"
         ],
         "type": "choropleth",
         "z": [
          1.052,
          1.101,
          1.125,
          1.16,
          1.234,
          1.338,
          1.338,
          1.34,
          1.34,
          1.36,
          1.37,
          1.374,
          1.375,
          1.38,
          1.39,
          1.41,
          1.42,
          1.43,
          1.44,
          1.4480000000000002,
          1.46,
          1.4669999999999999,
          1.48,
          1.483,
          1.4961,
          1.5,
          1.53,
          1.53,
          1.54,
          1.54,
          1.541,
          1.5419999999999998,
          1.57,
          1.57,
          1.58,
          1.6,
          1.604,
          1.61,
          1.61,
          1.63,
          1.631,
          1.636,
          1.64,
          1.6580000000000001,
          1.66,
          1.68,
          1.69,
          1.71,
          1.71,
          1.7109999999999999,
          1.713,
          1.722,
          1.7309999999999999,
          1.739,
          1.74,
          1.74,
          1.758,
          1.7619999999999998,
          1.765,
          1.7655,
          1.766,
          1.768,
          1.79,
          1.79,
          1.798,
          1.7990000000000002,
          1.81,
          1.81,
          1.81,
          1.834,
          1.85,
          1.861,
          1.886,
          1.899,
          1.9,
          1.911,
          1.92,
          1.95,
          1.96,
          1.97,
          1.984,
          1.986,
          1.993,
          1.9969999999999999,
          2.009,
          2.019,
          2.02,
          2.02,
          2.032,
          2.0340000000000003,
          2.04,
          2.052,
          2.0580000000000003,
          2.076,
          2.08,
          2.083,
          2.083,
          2.09,
          2.153,
          2.171,
          2.175,
          2.187,
          2.235,
          2.2769999999999997,
          2.294,
          2.299,
          2.3040000000000003,
          2.3280000000000003,
          2.336,
          2.3480000000000003,
          2.37,
          2.392,
          2.423,
          2.43,
          2.4530000000000003,
          2.454,
          2.455,
          2.458,
          2.475,
          2.485,
          2.487,
          2.491,
          2.4930000000000003,
          2.5,
          2.53,
          2.592,
          2.6430000000000002,
          2.6830000000000003,
          2.7089999999999996,
          2.713,
          2.73,
          2.785,
          2.8360000000000003,
          2.839,
          2.865,
          2.8680000000000003,
          2.8939999999999997,
          2.92,
          3,
          3.033,
          3.0439999999999996,
          3.0980000000000003,
          3.11,
          3.21,
          3.239,
          3.3089999999999997,
          3.313,
          3.3539999999999996,
          3.4139999999999997,
          3.595,
          3.609,
          3.61,
          3.63,
          3.682,
          3.72,
          3.793,
          3.795,
          3.8089999999999997,
          3.889,
          3.926,
          3.926,
          3.9419999999999997,
          4.061,
          4.081,
          4.129,
          4.275,
          4.309,
          4.359,
          4.3839999999999995,
          4.394,
          4.468999999999999,
          4.477,
          4.505,
          4.513,
          4.556,
          4.599,
          4.599,
          4.612,
          4.638999999999999,
          4.695,
          4.774,
          4.777,
          4.796,
          4.846,
          4.906000000000001,
          4.925,
          4.953,
          5.178999999999999,
          5.271,
          5.358,
          5.391,
          5.457000000000001,
          5.5,
          5.615,
          5.622999999999999,
          5.846,
          5.968,
          6.018,
          6.171,
          7.184
         ]
        }
       ],
       "layout": {
        "annotations": [
         {
          "showarrow": false,
          "text": "Data Source:<a href=\"https://data.worldbank.org/indicator/SP.DYN.TFRT.IN\">            The World Bank</a>",
          "x": 0.8,
          "xref": "paper",
          "y": 0,
          "yref": "paper"
         }
        ],
        "geo": {
         "projection": {
          "type": "equirectangular"
         },
         "showcoastlines": false,
         "showframe": false
        },
        "template": {
         "data": {
          "bar": [
           {
            "error_x": {
             "color": "#2a3f5f"
            },
            "error_y": {
             "color": "#2a3f5f"
            },
            "marker": {
             "line": {
              "color": "#E5ECF6",
              "width": 0.5
             }
            },
            "type": "bar"
           }
          ],
          "barpolar": [
           {
            "marker": {
             "line": {
              "color": "#E5ECF6",
              "width": 0.5
             }
            },
            "type": "barpolar"
           }
          ],
          "carpet": [
           {
            "aaxis": {
             "endlinecolor": "#2a3f5f",
             "gridcolor": "white",
             "linecolor": "white",
             "minorgridcolor": "white",
             "startlinecolor": "#2a3f5f"
            },
            "baxis": {
             "endlinecolor": "#2a3f5f",
             "gridcolor": "white",
             "linecolor": "white",
             "minorgridcolor": "white",
             "startlinecolor": "#2a3f5f"
            },
            "type": "carpet"
           }
          ],
          "choropleth": [
           {
            "colorbar": {
             "outlinewidth": 0,
             "ticks": ""
            },
            "type": "choropleth"
           }
          ],
          "contour": [
           {
            "colorbar": {
             "outlinewidth": 0,
             "ticks": ""
            },
            "colorscale": [
             [
              0,
              "#0d0887"
             ],
             [
              0.1111111111111111,
              "#46039f"
             ],
             [
              0.2222222222222222,
              "#7201a8"
             ],
             [
              0.3333333333333333,
              "#9c179e"
             ],
             [
              0.4444444444444444,
              "#bd3786"
             ],
             [
              0.5555555555555556,
              "#d8576b"
             ],
             [
              0.6666666666666666,
              "#ed7953"
             ],
             [
              0.7777777777777778,
              "#fb9f3a"
             ],
             [
              0.8888888888888888,
              "#fdca26"
             ],
             [
              1,
              "#f0f921"
             ]
            ],
            "type": "contour"
           }
          ],
          "contourcarpet": [
           {
            "colorbar": {
             "outlinewidth": 0,
             "ticks": ""
            },
            "type": "contourcarpet"
           }
          ],
          "heatmap": [
           {
            "colorbar": {
             "outlinewidth": 0,
             "ticks": ""
            },
            "colorscale": [
             [
              0,
              "#0d0887"
             ],
             [
              0.1111111111111111,
              "#46039f"
             ],
             [
              0.2222222222222222,
              "#7201a8"
             ],
             [
              0.3333333333333333,
              "#9c179e"
             ],
             [
              0.4444444444444444,
              "#bd3786"
             ],
             [
              0.5555555555555556,
              "#d8576b"
             ],
             [
              0.6666666666666666,
              "#ed7953"
             ],
             [
              0.7777777777777778,
              "#fb9f3a"
             ],
             [
              0.8888888888888888,
              "#fdca26"
             ],
             [
              1,
              "#f0f921"
             ]
            ],
            "type": "heatmap"
           }
          ],
          "heatmapgl": [
           {
            "colorbar": {
             "outlinewidth": 0,
             "ticks": ""
            },
            "colorscale": [
             [
              0,
              "#0d0887"
             ],
             [
              0.1111111111111111,
              "#46039f"
             ],
             [
              0.2222222222222222,
              "#7201a8"
             ],
             [
              0.3333333333333333,
              "#9c179e"
             ],
             [
              0.4444444444444444,
              "#bd3786"
             ],
             [
              0.5555555555555556,
              "#d8576b"
             ],
             [
              0.6666666666666666,
              "#ed7953"
             ],
             [
              0.7777777777777778,
              "#fb9f3a"
             ],
             [
              0.8888888888888888,
              "#fdca26"
             ],
             [
              1,
              "#f0f921"
             ]
            ],
            "type": "heatmapgl"
           }
          ],
          "histogram": [
           {
            "marker": {
             "colorbar": {
              "outlinewidth": 0,
              "ticks": ""
             }
            },
            "type": "histogram"
           }
          ],
          "histogram2d": [
           {
            "colorbar": {
             "outlinewidth": 0,
             "ticks": ""
            },
            "colorscale": [
             [
              0,
              "#0d0887"
             ],
             [
              0.1111111111111111,
              "#46039f"
             ],
             [
              0.2222222222222222,
              "#7201a8"
             ],
             [
              0.3333333333333333,
              "#9c179e"
             ],
             [
              0.4444444444444444,
              "#bd3786"
             ],
             [
              0.5555555555555556,
              "#d8576b"
             ],
             [
              0.6666666666666666,
              "#ed7953"
             ],
             [
              0.7777777777777778,
              "#fb9f3a"
             ],
             [
              0.8888888888888888,
              "#fdca26"
             ],
             [
              1,
              "#f0f921"
             ]
            ],
            "type": "histogram2d"
           }
          ],
          "histogram2dcontour": [
           {
            "colorbar": {
             "outlinewidth": 0,
             "ticks": ""
            },
            "colorscale": [
             [
              0,
              "#0d0887"
             ],
             [
              0.1111111111111111,
              "#46039f"
             ],
             [
              0.2222222222222222,
              "#7201a8"
             ],
             [
              0.3333333333333333,
              "#9c179e"
             ],
             [
              0.4444444444444444,
              "#bd3786"
             ],
             [
              0.5555555555555556,
              "#d8576b"
             ],
             [
              0.6666666666666666,
              "#ed7953"
             ],
             [
              0.7777777777777778,
              "#fb9f3a"
             ],
             [
              0.8888888888888888,
              "#fdca26"
             ],
             [
              1,
              "#f0f921"
             ]
            ],
            "type": "histogram2dcontour"
           }
          ],
          "mesh3d": [
           {
            "colorbar": {
             "outlinewidth": 0,
             "ticks": ""
            },
            "type": "mesh3d"
           }
          ],
          "parcoords": [
           {
            "line": {
             "colorbar": {
              "outlinewidth": 0,
              "ticks": ""
             }
            },
            "type": "parcoords"
           }
          ],
          "scatter": [
           {
            "marker": {
             "colorbar": {
              "outlinewidth": 0,
              "ticks": ""
             }
            },
            "type": "scatter"
           }
          ],
          "scatter3d": [
           {
            "line": {
             "colorbar": {
              "outlinewidth": 0,
              "ticks": ""
             }
            },
            "marker": {
             "colorbar": {
              "outlinewidth": 0,
              "ticks": ""
             }
            },
            "type": "scatter3d"
           }
          ],
          "scattercarpet": [
           {
            "marker": {
             "colorbar": {
              "outlinewidth": 0,
              "ticks": ""
             }
            },
            "type": "scattercarpet"
           }
          ],
          "scattergeo": [
           {
            "marker": {
             "colorbar": {
              "outlinewidth": 0,
              "ticks": ""
             }
            },
            "type": "scattergeo"
           }
          ],
          "scattergl": [
           {
            "marker": {
             "colorbar": {
              "outlinewidth": 0,
              "ticks": ""
             }
            },
            "type": "scattergl"
           }
          ],
          "scattermapbox": [
           {
            "marker": {
             "colorbar": {
              "outlinewidth": 0,
              "ticks": ""
             }
            },
            "type": "scattermapbox"
           }
          ],
          "scatterpolar": [
           {
            "marker": {
             "colorbar": {
              "outlinewidth": 0,
              "ticks": ""
             }
            },
            "type": "scatterpolar"
           }
          ],
          "scatterpolargl": [
           {
            "marker": {
             "colorbar": {
              "outlinewidth": 0,
              "ticks": ""
             }
            },
            "type": "scatterpolargl"
           }
          ],
          "scatterternary": [
           {
            "marker": {
             "colorbar": {
              "outlinewidth": 0,
              "ticks": ""
             }
            },
            "type": "scatterternary"
           }
          ],
          "surface": [
           {
            "colorbar": {
             "outlinewidth": 0,
             "ticks": ""
            },
            "colorscale": [
             [
              0,
              "#0d0887"
             ],
             [
              0.1111111111111111,
              "#46039f"
             ],
             [
              0.2222222222222222,
              "#7201a8"
             ],
             [
              0.3333333333333333,
              "#9c179e"
             ],
             [
              0.4444444444444444,
              "#bd3786"
             ],
             [
              0.5555555555555556,
              "#d8576b"
             ],
             [
              0.6666666666666666,
              "#ed7953"
             ],
             [
              0.7777777777777778,
              "#fb9f3a"
             ],
             [
              0.8888888888888888,
              "#fdca26"
             ],
             [
              1,
              "#f0f921"
             ]
            ],
            "type": "surface"
           }
          ],
          "table": [
           {
            "cells": {
             "fill": {
              "color": "#EBF0F8"
             },
             "line": {
              "color": "white"
             }
            },
            "header": {
             "fill": {
              "color": "#C8D4E3"
             },
             "line": {
              "color": "white"
             }
            },
            "type": "table"
           }
          ]
         },
         "layout": {
          "annotationdefaults": {
           "arrowcolor": "#2a3f5f",
           "arrowhead": 0,
           "arrowwidth": 1
          },
          "colorscale": {
           "diverging": [
            [
             0,
             "#8e0152"
            ],
            [
             0.1,
             "#c51b7d"
            ],
            [
             0.2,
             "#de77ae"
            ],
            [
             0.3,
             "#f1b6da"
            ],
            [
             0.4,
             "#fde0ef"
            ],
            [
             0.5,
             "#f7f7f7"
            ],
            [
             0.6,
             "#e6f5d0"
            ],
            [
             0.7,
             "#b8e186"
            ],
            [
             0.8,
             "#7fbc41"
            ],
            [
             0.9,
             "#4d9221"
            ],
            [
             1,
             "#276419"
            ]
           ],
           "sequential": [
            [
             0,
             "#0d0887"
            ],
            [
             0.1111111111111111,
             "#46039f"
            ],
            [
             0.2222222222222222,
             "#7201a8"
            ],
            [
             0.3333333333333333,
             "#9c179e"
            ],
            [
             0.4444444444444444,
             "#bd3786"
            ],
            [
             0.5555555555555556,
             "#d8576b"
            ],
            [
             0.6666666666666666,
             "#ed7953"
            ],
            [
             0.7777777777777778,
             "#fb9f3a"
            ],
            [
             0.8888888888888888,
             "#fdca26"
            ],
            [
             1,
             "#f0f921"
            ]
           ],
           "sequentialminus": [
            [
             0,
             "#0d0887"
            ],
            [
             0.1111111111111111,
             "#46039f"
            ],
            [
             0.2222222222222222,
             "#7201a8"
            ],
            [
             0.3333333333333333,
             "#9c179e"
            ],
            [
             0.4444444444444444,
             "#bd3786"
            ],
            [
             0.5555555555555556,
             "#d8576b"
            ],
            [
             0.6666666666666666,
             "#ed7953"
            ],
            [
             0.7777777777777778,
             "#fb9f3a"
            ],
            [
             0.8888888888888888,
             "#fdca26"
            ],
            [
             1,
             "#f0f921"
            ]
           ]
          },
          "colorway": [
           "#636efa",
           "#EF553B",
           "#00cc96",
           "#ab63fa",
           "#FFA15A",
           "#19d3f3",
           "#FF6692",
           "#B6E880",
           "#FF97FF",
           "#FECB52"
          ],
          "font": {
           "color": "#2a3f5f"
          },
          "geo": {
           "bgcolor": "white",
           "lakecolor": "white",
           "landcolor": "#E5ECF6",
           "showlakes": true,
           "showland": true,
           "subunitcolor": "white"
          },
          "hoverlabel": {
           "align": "left"
          },
          "hovermode": "closest",
          "mapbox": {
           "style": "light"
          },
          "paper_bgcolor": "white",
          "plot_bgcolor": "#E5ECF6",
          "polar": {
           "angularaxis": {
            "gridcolor": "white",
            "linecolor": "white",
            "ticks": ""
           },
           "bgcolor": "#E5ECF6",
           "radialaxis": {
            "gridcolor": "white",
            "linecolor": "white",
            "ticks": ""
           }
          },
          "scene": {
           "xaxis": {
            "backgroundcolor": "#E5ECF6",
            "gridcolor": "white",
            "gridwidth": 2,
            "linecolor": "white",
            "showbackground": true,
            "ticks": "",
            "zerolinecolor": "white"
           },
           "yaxis": {
            "backgroundcolor": "#E5ECF6",
            "gridcolor": "white",
            "gridwidth": 2,
            "linecolor": "white",
            "showbackground": true,
            "ticks": "",
            "zerolinecolor": "white"
           },
           "zaxis": {
            "backgroundcolor": "#E5ECF6",
            "gridcolor": "white",
            "gridwidth": 2,
            "linecolor": "white",
            "showbackground": true,
            "ticks": "",
            "zerolinecolor": "white"
           }
          },
          "shapedefaults": {
           "line": {
            "color": "#2a3f5f"
           }
          },
          "ternary": {
           "aaxis": {
            "gridcolor": "white",
            "linecolor": "white",
            "ticks": ""
           },
           "baxis": {
            "gridcolor": "white",
            "linecolor": "white",
            "ticks": ""
           },
           "bgcolor": "#E5ECF6",
           "caxis": {
            "gridcolor": "white",
            "linecolor": "white",
            "ticks": ""
           }
          },
          "title": {
           "x": 0.05
          },
          "xaxis": {
           "automargin": true,
           "gridcolor": "white",
           "linecolor": "white",
           "ticks": "",
           "zerolinecolor": "white",
           "zerolinewidth": 2
          },
          "yaxis": {
           "automargin": true,
           "gridcolor": "white",
           "linecolor": "white",
           "ticks": "",
           "zerolinecolor": "white",
           "zerolinewidth": 2
          }
         }
        },
        "title": {
         "text": "2017 Average Fertility Rate"
        }
       }
      },
      "text/html": [
       "<div>\n",
       "        \n",
       "        \n",
       "            <div id=\"ccdd3282-ea82-4605-b94f-857db6526072\" class=\"plotly-graph-div\" style=\"height:525px; width:100%;\"></div>\n",
       "            <script type=\"text/javascript\">\n",
       "                require([\"plotly\"], function(Plotly) {\n",
       "                    window.PLOTLYENV=window.PLOTLYENV || {};\n",
       "                    \n",
       "                if (document.getElementById(\"ccdd3282-ea82-4605-b94f-857db6526072\")) {\n",
       "                    Plotly.newPlot(\n",
       "                        'ccdd3282-ea82-4605-b94f-857db6526072',\n",
       "                        [{\"autocolorscale\": false, \"colorbar\": {\"title\": {\"text\": \"Average FR\"}}, \"colorscale\": [[0.0, \"rgb(247,251,255)\"], [0.125, \"rgb(222,235,247)\"], [0.25, \"rgb(198,219,239)\"], [0.375, \"rgb(158,202,225)\"], [0.5, \"rgb(107,174,214)\"], [0.625, \"rgb(66,146,198)\"], [0.75, \"rgb(33,113,181)\"], [0.875, \"rgb(8,81,156)\"], [1.0, \"rgb(8,48,107)\"]], \"locations\": [\"KOR\", \"PRI\", \"HKG\", \"SGP\", \"MDA\", \"MAC\", \"CYP\", \"ITA\", \"ESP\", \"PRT\", \"MLT\", \"UKR\", \"BIH\", \"GRC\", \"POL\", \"LUX\", \"HRV\", \"JPN\", \"MUS\", \"LCA\", \"SRB\", \"THA\", \"SVK\", \"CHI\", \"CAN\", \"CUW\", \"HUN\", \"AUT\", \"BGR\", \"CHE\", \"BLR\", \"MKD\", \"DEU\", \"FIN\", \"SVN\", \"EST\", \"ARM\", \"LIE\", \"BMU\", \"CZE\", \"CHN\", \"IRN\", \"ROU\", \"MNE\", \"NLD\", \"BEL\", \"LTU\", \"ALB\", \"NOR\", \"BRA\", \"LBN\", \"CUB\", \"ARE\", \"TTO\", \"LVA\", \"ISL\", \"BHS\", \"RUS\", \"AUS\", \"USA\", \"CHL\", \"CRI\", \"GBR\", \"DNK\", \"ABW\", \"BRB\", \"MAF\", \"IRL\", \"NZL\", \"COL\", \"SWE\", \"BRN\", \"QAT\", \"PRK\", \"AZE\", \"VCT\", \"FRA\", \"VNM\", \"KWT\", \"NCL\", \"URY\", \"GEO\", \"JAM\", \"PYF\", \"BHR\", \"MYS\", \"BTN\", \"XKX\", \"LKA\", \"TUR\", \"ATG\", \"MDV\", \"SLV\", \"BGD\", \"VIR\", \"GRD\", \"NPL\", \"GRL\", \"MEX\", \"NIC\", \"TUN\", \"MMR\", \"LBY\", \"ARG\", \"VEN\", \"CPV\", \"IND\", \"GUM\", \"IDN\", \"SUR\", \"PER\", \"DOM\", \"HND\", \"ZAF\", \"PRY\", \"MAR\", \"UZB\", \"ECU\", \"BLZ\", \"GUY\", \"PAN\", \"SAU\", \"FJI\", \"FRO\", \"KHM\", \"OMN\", \"LAO\", \"BWA\", \"DZA\", \"MNG\", \"KAZ\", \"DJI\", \"TKM\", \"BOL\", \"SYR\", \"HTI\", \"PHL\", \"GTM\", \"KGZ\", \"SWZ\", \"LSO\", \"FSM\", \"ISR\", \"EGY\", \"VUT\", \"JOR\", \"TJK\", \"NAM\", \"PAK\", \"TON\", \"KIR\", \"PNG\", \"SYC\", \"ZWE\", \"GAB\", \"KEN\", \"SLB\", \"RWA\", \"YEM\", \"WSM\", \"GHA\", \"PSE\", \"ERI\", \"ETH\", \"MDG\", \"COM\", \"IRQ\", \"SLE\", \"TGO\", \"STP\", \"SDN\", \"AFG\", \"MWI\", \"LBR\", \"GNB\", \"COG\", \"GNQ\", \"MRT\", \"CMR\", \"SEN\", \"SSD\", \"GIN\", \"CAF\", \"CIV\", \"BEN\", \"ZMB\", \"TZA\", \"MOZ\", \"BFA\", \"GMB\", \"TLS\", \"NGA\", \"UGA\", \"BDI\", \"AGO\", \"TCD\", \"MLI\", \"COD\", \"SOM\", \"NER\"], \"marker\": {\"line\": {\"color\": \"darkgray\", \"width\": 0.5}}, \"reversescale\": true, \"text\": [\"Korea, Rep.\", \"Puerto Rico\", \"Hong Kong SAR, China\", \"Singapore\", \"Moldova\", \"Macao SAR, China\", \"Cyprus\", \"Italy\", \"Spain\", \"Portugal\", \"Malta\", \"Ukraine\", \"Bosnia and Herzegovina\", \"Greece\", \"Poland\", \"Luxembourg\", \"Croatia\", \"Japan\", \"Mauritius\", \"St. Lucia\", \"Serbia\", \"Thailand\", \"Slovak Republic\", \"Channel Islands\", \"Canada\", \"Curacao\", \"Hungary\", \"Austria\", \"Bulgaria\", \"Switzerland\", \"Belarus\", \"North Macedonia\", \"Germany\", \"Finland\", \"Slovenia\", \"Estonia\", \"Armenia\", \"Liechtenstein\", \"Bermuda\", \"Czech Republic\", \"China\", \"Iran, Islamic Rep.\", \"Romania\", \"Montenegro\", \"Netherlands\", \"Belgium\", \"Lithuania\", \"Albania\", \"Norway\", \"Brazil\", \"Lebanon\", \"Cuba\", \"United Arab Emirates\", \"Trinidad and Tobago\", \"Latvia\", \"Iceland\", \"Bahamas, The\", \"Russian Federation\", \"Australia\", \"United States\", \"Chile\", \"Costa Rica\", \"United Kingdom\", \"Denmark\", \"Aruba\", \"Barbados\", \"St. Martin (French part)\", \"Ireland\", \"New Zealand\", \"Colombia\", \"Sweden\", \"Brunei Darussalam\", \"Qatar\", \"Korea, Dem. People\\u2019s Rep.\", \"Azerbaijan\", \"St. Vincent and the Grenadines\", \"France\", \"Vietnam\", \"Kuwait\", \"New Caledonia\", \"Uruguay\", \"Georgia\", \"Jamaica\", \"French Polynesia\", \"Bahrain\", \"Malaysia\", \"Bhutan\", \"Kosovo\", \"Sri Lanka\", \"Turkey\", \"Antigua and Barbuda\", \"Maldives\", \"El Salvador\", \"Bangladesh\", \"Virgin Islands (U.S.)\", \"Grenada\", \"Nepal\", \"Greenland\", \"Mexico\", \"Nicaragua\", \"Tunisia\", \"Myanmar\", \"Libya\", \"Argentina\", \"Venezuela, RB\", \"Cabo Verde\", \"India\", \"Guam\", \"Indonesia\", \"Suriname\", \"Peru\", \"Dominican Republic\", \"Honduras\", \"South Africa\", \"Paraguay\", \"Morocco\", \"Uzbekistan\", \"Ecuador\", \"Belize\", \"Guyana\", \"Panama\", \"Saudi Arabia\", \"Fiji\", \"Faroe Islands\", \"Cambodia\", \"Oman\", \"Lao PDR\", \"Botswana\", \"Algeria\", \"Mongolia\", \"Kazakhstan\", \"Djibouti\", \"Turkmenistan\", \"Bolivia\", \"Syrian Arab Republic\", \"Haiti\", \"Philippines\", \"Guatemala\", \"Kyrgyz Republic\", \"Eswatini\", \"Lesotho\", \"Micronesia, Fed. Sts.\", \"Israel\", \"Egypt, Arab Rep.\", \"Vanuatu\", \"Jordan\", \"Tajikistan\", \"Namibia\", \"Pakistan\", \"Tonga\", \"Kiribati\", \"Papua New Guinea\", \"Seychelles\", \"Zimbabwe\", \"Gabon\", \"Kenya\", \"Solomon Islands\", \"Rwanda\", \"Yemen, Rep.\", \"Samoa\", \"Ghana\", \"West Bank and Gaza\", \"Eritrea\", \"Ethiopia\", \"Madagascar\", \"Comoros\", \"Iraq\", \"Sierra Leone\", \"Togo\", \"Sao Tome and Principe\", \"Sudan\", \"Afghanistan\", \"Malawi\", \"Liberia\", \"Guinea-Bissau\", \"Congo, Rep.\", \"Equatorial Guinea\", \"Mauritania\", \"Cameroon\", \"Senegal\", \"South Sudan\", \"Guinea\", \"Central African Republic\", \"Cote d'Ivoire\", \"Benin\", \"Zambia\", \"Tanzania\", \"Mozambique\", \"Burkina Faso\", \"Gambia, The\", \"Timor-Leste\", \"Nigeria\", \"Uganda\", \"Burundi\", \"Angola\", \"Chad\", \"Mali\", \"Congo, Dem. Rep.\", \"Somalia\", \"Niger\"], \"type\": \"choropleth\", \"z\": [1.052, 1.101, 1.125, 1.16, 1.234, 1.338, 1.338, 1.34, 1.34, 1.36, 1.37, 1.374, 1.375, 1.38, 1.39, 1.41, 1.42, 1.43, 1.44, 1.4480000000000002, 1.46, 1.4669999999999999, 1.48, 1.483, 1.4961, 1.5, 1.53, 1.53, 1.54, 1.54, 1.541, 1.5419999999999998, 1.57, 1.57, 1.58, 1.6, 1.604, 1.61, 1.61, 1.63, 1.631, 1.636, 1.64, 1.6580000000000001, 1.66, 1.68, 1.69, 1.71, 1.71, 1.7109999999999999, 1.713, 1.722, 1.7309999999999999, 1.739, 1.74, 1.74, 1.758, 1.7619999999999998, 1.765, 1.7655, 1.766, 1.768, 1.79, 1.79, 1.798, 1.7990000000000002, 1.81, 1.81, 1.81, 1.834, 1.85, 1.861, 1.886, 1.899, 1.9, 1.911, 1.92, 1.95, 1.96, 1.97, 1.984, 1.986, 1.993, 1.9969999999999999, 2.009, 2.019, 2.02, 2.02, 2.032, 2.0340000000000003, 2.04, 2.052, 2.0580000000000003, 2.076, 2.08, 2.083, 2.083, 2.09, 2.153, 2.171, 2.175, 2.187, 2.235, 2.2769999999999997, 2.294, 2.299, 2.3040000000000003, 2.3280000000000003, 2.336, 2.3480000000000003, 2.37, 2.392, 2.423, 2.43, 2.4530000000000003, 2.454, 2.455, 2.458, 2.475, 2.485, 2.487, 2.491, 2.4930000000000003, 2.5, 2.53, 2.592, 2.6430000000000002, 2.6830000000000003, 2.7089999999999996, 2.713, 2.73, 2.785, 2.8360000000000003, 2.839, 2.865, 2.8680000000000003, 2.8939999999999997, 2.92, 3.0, 3.033, 3.0439999999999996, 3.0980000000000003, 3.11, 3.21, 3.239, 3.3089999999999997, 3.313, 3.3539999999999996, 3.4139999999999997, 3.595, 3.609, 3.61, 3.63, 3.682, 3.72, 3.793, 3.795, 3.8089999999999997, 3.889, 3.926, 3.926, 3.9419999999999997, 4.061, 4.081, 4.129, 4.275, 4.309, 4.359, 4.3839999999999995, 4.394, 4.468999999999999, 4.477, 4.505, 4.513, 4.556, 4.599, 4.599, 4.612, 4.638999999999999, 4.695, 4.774, 4.777, 4.796, 4.846, 4.906000000000001, 4.925, 4.953, 5.178999999999999, 5.271, 5.358, 5.391, 5.457000000000001, 5.5, 5.615, 5.622999999999999, 5.846, 5.968, 6.018, 6.171, 7.184]}],\n",
       "                        {\"annotations\": [{\"showarrow\": false, \"text\": \"Data Source:<a href=\\\"https://data.worldbank.org/indicator/SP.DYN.TFRT.IN\\\">            The World Bank</a>\", \"x\": 0.8, \"xref\": \"paper\", \"y\": 0, \"yref\": \"paper\"}], \"geo\": {\"projection\": {\"type\": \"equirectangular\"}, \"showcoastlines\": false, \"showframe\": false}, \"template\": {\"data\": {\"bar\": [{\"error_x\": {\"color\": \"#2a3f5f\"}, \"error_y\": {\"color\": \"#2a3f5f\"}, \"marker\": {\"line\": {\"color\": \"#E5ECF6\", \"width\": 0.5}}, \"type\": \"bar\"}], \"barpolar\": [{\"marker\": {\"line\": {\"color\": \"#E5ECF6\", \"width\": 0.5}}, \"type\": \"barpolar\"}], \"carpet\": [{\"aaxis\": {\"endlinecolor\": \"#2a3f5f\", \"gridcolor\": \"white\", \"linecolor\": \"white\", \"minorgridcolor\": \"white\", \"startlinecolor\": \"#2a3f5f\"}, \"baxis\": {\"endlinecolor\": \"#2a3f5f\", \"gridcolor\": \"white\", \"linecolor\": \"white\", \"minorgridcolor\": \"white\", \"startlinecolor\": \"#2a3f5f\"}, \"type\": \"carpet\"}], \"choropleth\": [{\"colorbar\": {\"outlinewidth\": 0, \"ticks\": \"\"}, \"type\": \"choropleth\"}], \"contour\": [{\"colorbar\": {\"outlinewidth\": 0, \"ticks\": \"\"}, \"colorscale\": [[0.0, \"#0d0887\"], [0.1111111111111111, \"#46039f\"], [0.2222222222222222, \"#7201a8\"], [0.3333333333333333, \"#9c179e\"], [0.4444444444444444, \"#bd3786\"], [0.5555555555555556, \"#d8576b\"], [0.6666666666666666, \"#ed7953\"], [0.7777777777777778, \"#fb9f3a\"], [0.8888888888888888, \"#fdca26\"], [1.0, \"#f0f921\"]], \"type\": \"contour\"}], \"contourcarpet\": [{\"colorbar\": {\"outlinewidth\": 0, \"ticks\": \"\"}, \"type\": \"contourcarpet\"}], \"heatmap\": [{\"colorbar\": {\"outlinewidth\": 0, \"ticks\": \"\"}, \"colorscale\": [[0.0, \"#0d0887\"], [0.1111111111111111, \"#46039f\"], [0.2222222222222222, \"#7201a8\"], [0.3333333333333333, \"#9c179e\"], [0.4444444444444444, \"#bd3786\"], [0.5555555555555556, \"#d8576b\"], [0.6666666666666666, \"#ed7953\"], [0.7777777777777778, \"#fb9f3a\"], [0.8888888888888888, \"#fdca26\"], [1.0, \"#f0f921\"]], \"type\": \"heatmap\"}], \"heatmapgl\": [{\"colorbar\": {\"outlinewidth\": 0, \"ticks\": \"\"}, \"colorscale\": [[0.0, \"#0d0887\"], [0.1111111111111111, \"#46039f\"], [0.2222222222222222, \"#7201a8\"], [0.3333333333333333, \"#9c179e\"], [0.4444444444444444, \"#bd3786\"], [0.5555555555555556, \"#d8576b\"], [0.6666666666666666, \"#ed7953\"], [0.7777777777777778, \"#fb9f3a\"], [0.8888888888888888, \"#fdca26\"], [1.0, \"#f0f921\"]], \"type\": \"heatmapgl\"}], \"histogram\": [{\"marker\": {\"colorbar\": {\"outlinewidth\": 0, \"ticks\": \"\"}}, \"type\": \"histogram\"}], \"histogram2d\": [{\"colorbar\": {\"outlinewidth\": 0, \"ticks\": \"\"}, \"colorscale\": [[0.0, \"#0d0887\"], [0.1111111111111111, \"#46039f\"], [0.2222222222222222, \"#7201a8\"], [0.3333333333333333, \"#9c179e\"], [0.4444444444444444, \"#bd3786\"], [0.5555555555555556, \"#d8576b\"], [0.6666666666666666, \"#ed7953\"], [0.7777777777777778, \"#fb9f3a\"], [0.8888888888888888, \"#fdca26\"], [1.0, \"#f0f921\"]], \"type\": \"histogram2d\"}], \"histogram2dcontour\": [{\"colorbar\": {\"outlinewidth\": 0, \"ticks\": \"\"}, \"colorscale\": [[0.0, \"#0d0887\"], [0.1111111111111111, \"#46039f\"], [0.2222222222222222, \"#7201a8\"], [0.3333333333333333, \"#9c179e\"], [0.4444444444444444, \"#bd3786\"], [0.5555555555555556, \"#d8576b\"], [0.6666666666666666, \"#ed7953\"], [0.7777777777777778, \"#fb9f3a\"], [0.8888888888888888, \"#fdca26\"], [1.0, \"#f0f921\"]], \"type\": \"histogram2dcontour\"}], \"mesh3d\": [{\"colorbar\": {\"outlinewidth\": 0, \"ticks\": \"\"}, \"type\": \"mesh3d\"}], \"parcoords\": [{\"line\": {\"colorbar\": {\"outlinewidth\": 0, \"ticks\": \"\"}}, \"type\": \"parcoords\"}], \"scatter\": [{\"marker\": {\"colorbar\": {\"outlinewidth\": 0, \"ticks\": \"\"}}, \"type\": \"scatter\"}], \"scatter3d\": [{\"line\": {\"colorbar\": {\"outlinewidth\": 0, \"ticks\": \"\"}}, \"marker\": {\"colorbar\": {\"outlinewidth\": 0, \"ticks\": \"\"}}, \"type\": \"scatter3d\"}], \"scattercarpet\": [{\"marker\": {\"colorbar\": {\"outlinewidth\": 0, \"ticks\": \"\"}}, \"type\": \"scattercarpet\"}], \"scattergeo\": [{\"marker\": {\"colorbar\": {\"outlinewidth\": 0, \"ticks\": \"\"}}, \"type\": \"scattergeo\"}], \"scattergl\": [{\"marker\": {\"colorbar\": {\"outlinewidth\": 0, \"ticks\": \"\"}}, \"type\": \"scattergl\"}], \"scattermapbox\": [{\"marker\": {\"colorbar\": {\"outlinewidth\": 0, \"ticks\": \"\"}}, \"type\": \"scattermapbox\"}], \"scatterpolar\": [{\"marker\": {\"colorbar\": {\"outlinewidth\": 0, \"ticks\": \"\"}}, \"type\": \"scatterpolar\"}], \"scatterpolargl\": [{\"marker\": {\"colorbar\": {\"outlinewidth\": 0, \"ticks\": \"\"}}, \"type\": \"scatterpolargl\"}], \"scatterternary\": [{\"marker\": {\"colorbar\": {\"outlinewidth\": 0, \"ticks\": \"\"}}, \"type\": \"scatterternary\"}], \"surface\": [{\"colorbar\": {\"outlinewidth\": 0, \"ticks\": \"\"}, \"colorscale\": [[0.0, \"#0d0887\"], [0.1111111111111111, \"#46039f\"], [0.2222222222222222, \"#7201a8\"], [0.3333333333333333, \"#9c179e\"], [0.4444444444444444, \"#bd3786\"], [0.5555555555555556, \"#d8576b\"], [0.6666666666666666, \"#ed7953\"], [0.7777777777777778, \"#fb9f3a\"], [0.8888888888888888, \"#fdca26\"], [1.0, \"#f0f921\"]], \"type\": \"surface\"}], \"table\": [{\"cells\": {\"fill\": {\"color\": \"#EBF0F8\"}, \"line\": {\"color\": \"white\"}}, \"header\": {\"fill\": {\"color\": \"#C8D4E3\"}, \"line\": {\"color\": \"white\"}}, \"type\": \"table\"}]}, \"layout\": {\"annotationdefaults\": {\"arrowcolor\": \"#2a3f5f\", \"arrowhead\": 0, \"arrowwidth\": 1}, \"colorscale\": {\"diverging\": [[0, \"#8e0152\"], [0.1, \"#c51b7d\"], [0.2, \"#de77ae\"], [0.3, \"#f1b6da\"], [0.4, \"#fde0ef\"], [0.5, \"#f7f7f7\"], [0.6, \"#e6f5d0\"], [0.7, \"#b8e186\"], [0.8, \"#7fbc41\"], [0.9, \"#4d9221\"], [1, \"#276419\"]], \"sequential\": [[0.0, \"#0d0887\"], [0.1111111111111111, \"#46039f\"], [0.2222222222222222, \"#7201a8\"], [0.3333333333333333, \"#9c179e\"], [0.4444444444444444, \"#bd3786\"], [0.5555555555555556, \"#d8576b\"], [0.6666666666666666, \"#ed7953\"], [0.7777777777777778, \"#fb9f3a\"], [0.8888888888888888, \"#fdca26\"], [1.0, \"#f0f921\"]], \"sequentialminus\": [[0.0, \"#0d0887\"], [0.1111111111111111, \"#46039f\"], [0.2222222222222222, \"#7201a8\"], [0.3333333333333333, \"#9c179e\"], [0.4444444444444444, \"#bd3786\"], [0.5555555555555556, \"#d8576b\"], [0.6666666666666666, \"#ed7953\"], [0.7777777777777778, \"#fb9f3a\"], [0.8888888888888888, \"#fdca26\"], [1.0, \"#f0f921\"]]}, \"colorway\": [\"#636efa\", \"#EF553B\", \"#00cc96\", \"#ab63fa\", \"#FFA15A\", \"#19d3f3\", \"#FF6692\", \"#B6E880\", \"#FF97FF\", \"#FECB52\"], \"font\": {\"color\": \"#2a3f5f\"}, \"geo\": {\"bgcolor\": \"white\", \"lakecolor\": \"white\", \"landcolor\": \"#E5ECF6\", \"showlakes\": true, \"showland\": true, \"subunitcolor\": \"white\"}, \"hoverlabel\": {\"align\": \"left\"}, \"hovermode\": \"closest\", \"mapbox\": {\"style\": \"light\"}, \"paper_bgcolor\": \"white\", \"plot_bgcolor\": \"#E5ECF6\", \"polar\": {\"angularaxis\": {\"gridcolor\": \"white\", \"linecolor\": \"white\", \"ticks\": \"\"}, \"bgcolor\": \"#E5ECF6\", \"radialaxis\": {\"gridcolor\": \"white\", \"linecolor\": \"white\", \"ticks\": \"\"}}, \"scene\": {\"xaxis\": {\"backgroundcolor\": \"#E5ECF6\", \"gridcolor\": \"white\", \"gridwidth\": 2, \"linecolor\": \"white\", \"showbackground\": true, \"ticks\": \"\", \"zerolinecolor\": \"white\"}, \"yaxis\": {\"backgroundcolor\": \"#E5ECF6\", \"gridcolor\": \"white\", \"gridwidth\": 2, \"linecolor\": \"white\", \"showbackground\": true, \"ticks\": \"\", \"zerolinecolor\": \"white\"}, \"zaxis\": {\"backgroundcolor\": \"#E5ECF6\", \"gridcolor\": \"white\", \"gridwidth\": 2, \"linecolor\": \"white\", \"showbackground\": true, \"ticks\": \"\", \"zerolinecolor\": \"white\"}}, \"shapedefaults\": {\"line\": {\"color\": \"#2a3f5f\"}}, \"ternary\": {\"aaxis\": {\"gridcolor\": \"white\", \"linecolor\": \"white\", \"ticks\": \"\"}, \"baxis\": {\"gridcolor\": \"white\", \"linecolor\": \"white\", \"ticks\": \"\"}, \"bgcolor\": \"#E5ECF6\", \"caxis\": {\"gridcolor\": \"white\", \"linecolor\": \"white\", \"ticks\": \"\"}}, \"title\": {\"x\": 0.05}, \"xaxis\": {\"automargin\": true, \"gridcolor\": \"white\", \"linecolor\": \"white\", \"ticks\": \"\", \"zerolinecolor\": \"white\", \"zerolinewidth\": 2}, \"yaxis\": {\"automargin\": true, \"gridcolor\": \"white\", \"linecolor\": \"white\", \"ticks\": \"\", \"zerolinecolor\": \"white\", \"zerolinewidth\": 2}}}, \"title\": {\"text\": \"2017 Average Fertility Rate\"}},\n",
       "                        {\"responsive\": true}\n",
       "                    ).then(function(){\n",
       "                            \n",
       "var gd = document.getElementById('ccdd3282-ea82-4605-b94f-857db6526072');\n",
       "var x = new MutationObserver(function (mutations, observer) {{\n",
       "        var display = window.getComputedStyle(gd).display;\n",
       "        if (!display || display === 'none') {{\n",
       "            console.log([gd, 'removed!']);\n",
       "            Plotly.purge(gd);\n",
       "            observer.disconnect();\n",
       "        }}\n",
       "}});\n",
       "\n",
       "// Listen for the removal of the full notebook cells\n",
       "var notebookContainer = gd.closest('#notebook-container');\n",
       "if (notebookContainer) {{\n",
       "    x.observe(notebookContainer, {childList: true});\n",
       "}}\n",
       "\n",
       "// Listen for the clearing of the current output cell\n",
       "var outputEl = gd.closest('.output');\n",
       "if (outputEl) {{\n",
       "    x.observe(outputEl, {childList: true});\n",
       "}}\n",
       "\n",
       "                        })\n",
       "                };\n",
       "                });\n",
       "            </script>\n",
       "        </div>"
      ]
     },
     "metadata": {},
     "output_type": "display_data"
    }
   ],
   "source": [
    "#Plot Map of countries and their FR\n",
    "\n",
    "import plotly.graph_objects as go\n",
    "\n",
    "fig = go.Figure(data=go.Choropleth(\n",
    "    locations = FR_2017['CountryCode'],\n",
    "    z = FR_2017['FR'],\n",
    "    text = FR_2017['CountryName'],\n",
    "    colorscale = 'blues',\n",
    "    autocolorscale=False,\n",
    "    reversescale=True,\n",
    "    marker_line_color='darkgray',\n",
    "    marker_line_width=0.5,\n",
    "    colorbar_tickprefix = None,\n",
    "    colorbar_title = 'Average FR',\n",
    "))\n",
    "\n",
    "fig.update_layout(\n",
    "    title_text='2017 Average Fertility Rate',\n",
    "    geo=dict(\n",
    "        showframe=False,\n",
    "        showcoastlines=False,\n",
    "        projection_type='equirectangular'\n",
    "    ),\n",
    "    annotations = [dict(\n",
    "        x=0.80,\n",
    "        y=0,\n",
    "        xref='paper',\n",
    "        yref='paper',\n",
    "        text='Data Source:<a href=\"https://data.worldbank.org/indicator/SP.DYN.TFRT.IN\">\\\n",
    "            The World Bank</a>',\n",
    "        showarrow = False\n",
    "    )]\n",
    ")\n",
    "\n",
    "fig.show();"
   ]
  },
  {
   "cell_type": "code",
   "execution_count": 134,
   "metadata": {},
   "outputs": [],
   "source": [
    "#Add region and income data to 2017 dataset\n",
    "FR_2017 = FR_2017.merge(country_details[['CountryCode','Region','IncomeGroup']], \n",
    "                        how='inner', left_on='CountryCode', right_on='CountryCode')"
   ]
  },
  {
   "cell_type": "code",
   "execution_count": 135,
   "metadata": {
    "scrolled": false
   },
   "outputs": [],
   "source": [
    "FR_2017.drop(columns = ['CountryCode','Year'], inplace = True)"
   ]
  },
  {
   "cell_type": "code",
   "execution_count": 136,
   "metadata": {},
   "outputs": [
    {
     "data": {
      "text/html": [
       "<div>\n",
       "<style scoped>\n",
       "    .dataframe tbody tr th:only-of-type {\n",
       "        vertical-align: middle;\n",
       "    }\n",
       "\n",
       "    .dataframe tbody tr th {\n",
       "        vertical-align: top;\n",
       "    }\n",
       "\n",
       "    .dataframe thead th {\n",
       "        text-align: right;\n",
       "    }\n",
       "</style>\n",
       "<table border=\"1\" class=\"dataframe\">\n",
       "  <thead>\n",
       "    <tr style=\"text-align: right;\">\n",
       "      <th></th>\n",
       "      <th>CountryName</th>\n",
       "      <th>FR</th>\n",
       "      <th>Region</th>\n",
       "      <th>IncomeGroup</th>\n",
       "    </tr>\n",
       "  </thead>\n",
       "  <tbody>\n",
       "    <tr>\n",
       "      <th>0</th>\n",
       "      <td>Korea, Rep.</td>\n",
       "      <td>1.052</td>\n",
       "      <td>East Asia &amp; Pacific</td>\n",
       "      <td>High income</td>\n",
       "    </tr>\n",
       "    <tr>\n",
       "      <th>1</th>\n",
       "      <td>Puerto Rico</td>\n",
       "      <td>1.101</td>\n",
       "      <td>Latin America &amp; Caribbean</td>\n",
       "      <td>High income</td>\n",
       "    </tr>\n",
       "    <tr>\n",
       "      <th>2</th>\n",
       "      <td>Hong Kong SAR, China</td>\n",
       "      <td>1.125</td>\n",
       "      <td>East Asia &amp; Pacific</td>\n",
       "      <td>High income</td>\n",
       "    </tr>\n",
       "    <tr>\n",
       "      <th>3</th>\n",
       "      <td>Singapore</td>\n",
       "      <td>1.160</td>\n",
       "      <td>East Asia &amp; Pacific</td>\n",
       "      <td>High income</td>\n",
       "    </tr>\n",
       "    <tr>\n",
       "      <th>4</th>\n",
       "      <td>Moldova</td>\n",
       "      <td>1.234</td>\n",
       "      <td>Europe &amp; Central Asia</td>\n",
       "      <td>Lower middle income</td>\n",
       "    </tr>\n",
       "  </tbody>\n",
       "</table>\n",
       "</div>"
      ],
      "text/plain": [
       "            CountryName     FR                     Region          IncomeGroup\n",
       "0           Korea, Rep.  1.052        East Asia & Pacific          High income\n",
       "1           Puerto Rico  1.101  Latin America & Caribbean          High income\n",
       "2  Hong Kong SAR, China  1.125        East Asia & Pacific          High income\n",
       "3             Singapore  1.160        East Asia & Pacific          High income\n",
       "4               Moldova  1.234      Europe & Central Asia  Lower middle income"
      ]
     },
     "execution_count": 136,
     "metadata": {},
     "output_type": "execute_result"
    }
   ],
   "source": [
    "FR_2017.head()"
   ]
  },
  {
   "cell_type": "code",
   "execution_count": 96,
   "metadata": {
    "scrolled": true
   },
   "outputs": [
    {
     "data": {
      "text/plain": [
       "<matplotlib.legend.Legend at 0x29dad5f1e10>"
      ]
     },
     "execution_count": 96,
     "metadata": {},
     "output_type": "execute_result"
    },
    {
     "data": {
      "image/png": "[encoded data removed]",
      "text/plain": [
       "<Figure size 1152x720 with 1 Axes>"
      ]
     },
     "metadata": {},
     "output_type": "display_data"
    }
   ],
   "source": [
    "#Plot distribution\n",
    "plt.hist(FR_2017.FR)\n",
    "plt.axvline(x=2.1, color = 'red' , label = 'Replacement Level' )\n",
    "plt.title('FR Distribution - 2017')\n",
    "plt.xlabel('Fertility Rate')\n",
    "plt.ylabel('Country Count')\n",
    "plt.legend()"
   ]
  },
  {
   "cell_type": "code",
   "execution_count": 144,
   "metadata": {
    "scrolled": true
   },
   "outputs": [
    {
     "name": "stdout",
     "output_type": "stream",
     "text": [
      "98 of 200 countries have a Fertility Rate under Replacement Level\n"
     ]
    }
   ],
   "source": [
    "print(len(FR_2017.loc[FR_2017.FR<=2.1]), 'of', len(FR_2017), 'countries have a Fertility Rate under Replacement Level')"
   ]
  },
  {
   "cell_type": "code",
   "execution_count": 145,
   "metadata": {},
   "outputs": [],
   "source": [
    "#FR by region\n",
    "FR_2017_Region = FR_2017[['Region','FR']].groupby('Region').mean().sort_values('FR', ascending = False)\n",
    "FR_2017_Region.reset_index(inplace = True)"
   ]
  },
  {
   "cell_type": "code",
   "execution_count": 146,
   "metadata": {},
   "outputs": [
    {
     "data": {
      "image/png": "[encoded data removed]",
      "text/plain": [
       "<Figure size 864x720 with 1 Axes>"
      ]
     },
     "metadata": {
      "needs_background": "light"
     },
     "output_type": "display_data"
    }
   ],
   "source": [
    "#Plot Fertility rate by region\n",
    "plt.figure(figsize=(12, 10) )\n",
    "plt.bar(FR_2017_Region.Region, FR_2017_Region.FR, align='center', alpha=0.5, \n",
    "         color = \"blue\"\n",
    "       )\n",
    "plt.xticks(FR_2017_Region.Region ,rotation=65,size='large')\n",
    "plt.yticks(size= 'large')\n",
    "plt.ylabel('AFR')\n",
    "plt.xlabel('Regions')\n",
    "plt.title('Average Fertility Rate by Region (2017)')\n",
    "plt.savefig('low10.png')\n",
    "plt.show()"
   ]
  },
  {
   "cell_type": "code",
   "execution_count": 101,
   "metadata": {},
   "outputs": [],
   "source": [
    "#FR by income group\n",
    "FR_2017_Income = FR_2017[['IncomeGroup','FR']].groupby('IncomeGroup').mean().sort_values('FR', ascending = False)\n",
    "FR_2017_Income.reset_index(inplace = True)"
   ]
  },
  {
   "cell_type": "code",
   "execution_count": 147,
   "metadata": {},
   "outputs": [
    {
     "data": {
      "image/png": "[encoded data removed]",
      "text/plain": [
       "<Figure size 864x720 with 1 Axes>"
      ]
     },
     "metadata": {
      "needs_background": "light"
     },
     "output_type": "display_data"
    }
   ],
   "source": [
    "#Plot FR by income group\n",
    "plt.figure(figsize=(12, 10) )\n",
    "plt.bar(FR_2017_Income.IncomeGroup, FR_2017_Income.FR, align='center', alpha=0.5, \n",
    "         color = \"red\"\n",
    "       )\n",
    "plt.xticks(FR_2017_Income.IncomeGroup ,rotation=65,size='large')\n",
    "plt.yticks(size= 'large')\n",
    "plt.ylabel('AFR')\n",
    "plt.xlabel('Income Group')\n",
    "plt.title('Average Fertility Rate by Income Group (2017)')\n",
    "plt.savefig('IncomeGroup.png')\n",
    "plt.show()"
   ]
  }
 ],
 "metadata": {
  "kernelspec": {
   "display_name": "Python 3",
   "language": "python",
   "name": "python3"
  },
  "language_info": {
   "codemirror_mode": {
    "name": "ipython",
    "version": 3
   },
   "file_extension": ".py",
   "mimetype": "text/x-python",
   "name": "python",
   "nbconvert_exporter": "python",
   "pygments_lexer": "ipython3",
   "version": "3.7.3"
  }
 },
 "nbformat": 4,
 "nbformat_minor": 2
}
